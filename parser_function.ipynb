{
 "cells": [
  {
   "cell_type": "code",
   "execution_count": 129,
   "metadata": {
    "collapsed": true
   },
   "outputs": [],
   "source": [
    "using LinearAlgebra\n",
    "using SparseArrays\n",
    "using Printf"
   ]
  },
  {
   "cell_type": "code",
   "execution_count": 130,
   "metadata": {},
   "outputs": [],
   "source": [
    "import MathProgBase\n",
    "MPB = MathProgBase\n",
    "\n",
    "import Mosek\n",
    "import Mosek:MosekSolver\n",
    "\n",
    "MPB.getbarrieriter(m::Mosek.MosekMathProgSolverInterface.MosekLinearQuadraticModel) = Mosek.getintinf(m.task, Mosek.MSK_IINF_INTPNT_ITER)\n",
    "MPB.getsimplexiter(m::Mosek.MosekMathProgSolverInterface.MosekLinearQuadraticModel) = Mosek.getintinf(m.task,Mosek.MSK_IINF_SIM_PRIMAL_ITER)+Mosek.getintinf(m.task,Mosek.MSK_IINF_SIM_DUAL_ITER)"
   ]
  },
  {
   "cell_type": "code",
   "execution_count": 355,
   "metadata": {
    "collapsed": true
   },
   "outputs": [],
   "source": [
    "import Gurobi\n",
    "MPB.getsimplexiter(m::Gurobi.GurobiMathProgModel) = Gurobi.get_dblattr(m.inner, \"IterCount\")\n",
    "MPB.getbarrieriter(m::Gurobi.GurobiMathProgModel) = Gurobi.get_intattr(m.inner, \"BarIterCount\")"
   ]
  },
  {
   "cell_type": "code",
   "execution_count": 131,
   "metadata": {
    "collapsed": true
   },
   "outputs": [],
   "source": [
    "solver = MosekSolver(MSK_IPAR_LOG=0);"
   ]
  },
  {
   "cell_type": "code",
   "execution_count": 132,
   "metadata": {},
   "outputs": [],
   "source": [
    "import Linda"
   ]
  },
  {
   "cell_type": "markdown",
   "metadata": {},
   "source": [
    "# TSSP formulation"
   ]
  },
  {
   "cell_type": "markdown",
   "metadata": {},
   "source": [
    "Deterministic equivalent:\n",
    "\n",
    "\\begin{align*}\n",
    "    (DEP) \\ \\ \\ \\min_{x, y} \\ \\ \\ & c^{T}x + \\sum_{i} p_{i} q_{i}^{T} y_{i}\\\\\n",
    "    s.t. \\ \\ \\ \n",
    "    & Ax = b,\\\\\n",
    "    & T_{i} x + W_{i}y_{i} = h_{i}, \\ \\ \\ \\forall i,\\\\\n",
    "    & x \\geq 0,\\\\\n",
    "    & y_{i} \\geq 0, \\ \\ \\ \\forall i.\n",
    "\\end{align*}"
   ]
  },
  {
   "cell_type": "markdown",
   "metadata": {},
   "source": [
    "Dual of (DEP) writes:\n",
    "\\begin{align*}\n",
    "    (D) \\ \\ \\ \\max_{\\eta, \\theta} \\ \\ \\ & b^{T}\\eta + \\sum_{i} h_{i}^{T} \\theta_{i}\\\\\n",
    "    s.t. \\ \\ \\ \n",
    "    & A^{T} \\eta + \\sum_{i} T_{i}^{T} \\theta_{i} \\leq c,\\\\\n",
    "    & W_{i}^{T} \\theta_{i} \\leq p_{i} q_{i}, \\ \\ \\ \\forall i.\n",
    "\\end{align*}"
   ]
  },
  {
   "cell_type": "markdown",
   "metadata": {},
   "source": [
    "We wolve (D) by column generation. Note that it amounts to the same as solving (DEP) by Benders.\n",
    "\n",
    "The Master problem writes\n",
    "\\begin{align*}\n",
    "    (D) \\ \\ \\ \\min_{\\eta, \\theta} \\ \\ \\ & -b^{T}\\eta - \\sum_{i, \\omega} h_{i, \\omega} \\lambda_{i, \\omega} - \\sum_{i, \\rho} h_{i, \\rho} \\lambda_{i, \\rho}\\\\\n",
    "    s.t. \\ \\ \\ \n",
    "    & A^{T} \\eta + \\sum_{i, \\omega} t_{i, \\omega} \\lambda_{i, \\omega} + \\sum_{i, \\rho} t_{i, \\rho} \\lambda_{i, \\rho} \\leq c, & [\\pi]\\\\\n",
    "    & \\sum_{i} \\lambda_{i, \\omega} = 1, \\ \\ \\ \\forall i, & [\\sigma_{i}]\\\\\n",
    "    & \\lambda \\geq 0.\n",
    "\\end{align*}\n",
    "\n",
    "and the sub-problem writes:\n",
    "\\begin{align*}\n",
    "    (SP) \\ \\ \\ \\min_{\\theta_{i}} \\ \\ \\ & (-h_{i}^{T} - \\pi^{T} T_{i}^{T}) \\theta_{i} - \\sigma_{i}\\\\\n",
    "    s.t. \\ \\ \\ \n",
    "    & W_{i}^{T} \\theta_{i} \\leq p_{i} q_{i}.\n",
    "\\end{align*}"
   ]
  },
  {
   "cell_type": "markdown",
   "metadata": {},
   "source": [
    "# Source code"
   ]
  },
  {
   "cell_type": "code",
   "execution_count": 133,
   "metadata": {},
   "outputs": [
    {
     "data": {
      "text/plain": [
       "parse_block_line! (generic function with 1 method)"
      ]
     },
     "execution_count": 133,
     "metadata": {},
     "output_type": "execute_result"
    }
   ],
   "source": [
    "include(\"src/TSSP/parser/core_parser.jl\")\n",
    "include(\"src/TSSP/parser/time_parser.jl\")\n",
    "include(\"src/TSSP/parser/stoch_parser.jl\")"
   ]
  },
  {
   "cell_type": "code",
   "execution_count": 134,
   "metadata": {},
   "outputs": [
    {
     "data": {
      "text/plain": [
       "generate_scenario_data (generic function with 1 method)"
      ]
     },
     "execution_count": 134,
     "metadata": {},
     "output_type": "execute_result"
    }
   ],
   "source": [
    "function generate_scenario_data(\n",
    "        A_ref, T_ref, W_ref, q_ref, h_ref,\n",
    "        row2idx, col2idx, \n",
    "        prob, coeffs\n",
    ")\n",
    "    m1, n1 = size(A_ref)\n",
    "    m2, n2 = size(W_ref)\n",
    "    m2 == size(T_ref, 1) || error(\"T and W has different number of rows.\")\n",
    "    n1 == size(T_ref, 2) || error(\"T and A has different number of columns.\")\n",
    "    \n",
    "    # Create problem data\n",
    "    h_ = copy(h_ref)          # Right-hand side\n",
    "    q_ = copy(q_ref)  # Objective ()\n",
    "    \n",
    "    T_ = copy(T_ref)          # T_r matrix\n",
    "    W_ = copy(W_ref)          # W_r\n",
    "    \n",
    "    \n",
    "    for (k, v) in coeffs\n",
    "        row::Int = row2idx[k[1]]\n",
    "        col::Int = col2idx[k[2]]\n",
    "        \n",
    "        row == 0 || row > m1 || error(\"Entry given for first-stage row $(k[1])\")\n",
    "        \n",
    "        # Check four cases\n",
    "        if row == 0 && col > 0\n",
    "            # Objective coefficient\n",
    "#             println(\"Obj: $k: $v\")\n",
    "            q_[col - n1] = v\n",
    "            \n",
    "        elseif row > 0 && col == 0\n",
    "            # Right-hand side\n",
    "#             println(\"Rhs: $k \\t $v\")\n",
    "            h_[row - m1] = v\n",
    "            \n",
    "        elseif row > 0 && col > 0\n",
    "            # Check whether belongs to T or W\n",
    "            if col <= n1\n",
    "                T_[row - m1, col] = v\n",
    "            else\n",
    "                W_[row - m1, col - n1] = v\n",
    "            end\n",
    "        else\n",
    "            eror(\"Wrong combination of row/col indices: $k\")\n",
    "        end\n",
    "    end\n",
    "    \n",
    "    q_ .*= prob\n",
    "    \n",
    "    return T_, W_, q_, h_\n",
    "end"
   ]
  },
  {
   "cell_type": "markdown",
   "metadata": {},
   "source": [
    "# Test instance files"
   ]
  },
  {
   "cell_type": "code",
   "execution_count": 466,
   "metadata": {},
   "outputs": [
    {
     "data": {
      "text/plain": [
       "\"data/tssp/4node.tim\""
      ]
     },
     "execution_count": 466,
     "metadata": {},
     "output_type": "execute_result"
    }
   ],
   "source": [
    "f_cor = \"data/tssp/4node.cor\"\n",
    "f_sto = \"data/tssp/4node.sto.4096\"\n",
    "f_tim = \"data/tssp/4node.tim\""
   ]
  },
  {
   "cell_type": "markdown",
   "metadata": {},
   "source": [
    "# Parse test instance"
   ]
  },
  {
   "cell_type": "markdown",
   "metadata": {},
   "source": [
    "## Parse `.cor` file"
   ]
  },
  {
   "cell_type": "code",
   "execution_count": 467,
   "metadata": {},
   "outputs": [],
   "source": [
    "# Extract data from .cor file\n",
    "d, row2idx, col2idx, I, J, V, objI, objV, rhsI, rhsV, senses = parse_cor_file(f_cor);"
   ]
  },
  {
   "cell_type": "markdown",
   "metadata": {},
   "source": [
    "## Parse `.tim` file"
   ]
  },
  {
   "cell_type": "code",
   "execution_count": 468,
   "metadata": {
    "collapsed": true
   },
   "outputs": [],
   "source": [
    "name, is_lp, col_periods, row_periods = parse_time_file(f_tim);"
   ]
  },
  {
   "cell_type": "code",
   "execution_count": 469,
   "metadata": {},
   "outputs": [],
   "source": [
    "# Extract indices of first/second period rows/columns\n",
    "col1, col2 = (\n",
    "    col2idx[col_periods[1]]:(col2idx[col_periods[2]]-1),  # First-period variables\n",
    "    col2idx[col_periods[2]]:d[\"ncols\"]  # Second-period variables\n",
    ")\n",
    "row1, row2 = (\n",
    "    row2idx[row_periods[1]]:(row2idx[row_periods[2]]-1),  # First-period rows\n",
    "    row2idx[row_periods[2]]:d[\"nrows\"]  # Second-period variables\n",
    ")\n",
    "\n",
    "if row1[1] == 0\n",
    "    row1 = 1:row1[end]\n",
    "end\n",
    "if col1[1] == 0\n",
    "    col1 = 1:col1[end]\n",
    "end"
   ]
  },
  {
   "cell_type": "code",
   "execution_count": 470,
   "metadata": {},
   "outputs": [
    {
     "data": {
      "text/plain": [
       "([50.0, 65.0, 45.0, 70.0, 60.0, 55.0, 50.0, 60.0, 55.0, 40.0  …  76.8, 57.6, 62.4, 67.2, 57.6, 38.4, 43.2, 57.6, 43.2, 62.4], [1.0, 1.0, 1.0, 1.0, 1.0, 1.0, 1.0, 1.0, 1.0, 1.0  …  0.0, 0.0, 0.0, 0.0, 0.0, 0.0, 0.0, 0.0, 0.0, 0.0])"
      ]
     },
     "execution_count": 470,
     "metadata": {},
     "output_type": "execute_result"
    }
   ],
   "source": [
    "# Extract vector of objective coefficients\n",
    "obj = sparsevec(objI, objV, d[\"ncols\"])\n",
    "c, q = Vector(obj[col1]), Vector(obj[col2])"
   ]
  },
  {
   "cell_type": "code",
   "execution_count": 471,
   "metadata": {},
   "outputs": [
    {
     "data": {
      "text/plain": [
       "([25.0, 25.0, 25.0, 25.0, 0.0, 0.0, 0.0, 0.0, 0.0, 0.0, 480.0, 240.0, 0.0, 0.0], [5.0, 8.0, 4.0, 4.5, 6.7, 4.2, 10.1, 8.3, 12.2, 3.2  …  0.0, 0.0, 0.0, 0.0, 0.0, 0.0, 0.0, 0.0, 0.0, 0.0])"
      ]
     },
     "execution_count": 471,
     "metadata": {},
     "output_type": "execute_result"
    }
   ],
   "source": [
    "# Extract right-hand side vectors\n",
    "rhs = sparsevec(rhsI, rhsV, d[\"nrows\"])\n",
    "b, h = Vector(rhs[row1]), Vector(rhs[row2])"
   ]
  },
  {
   "cell_type": "code",
   "execution_count": 472,
   "metadata": {},
   "outputs": [],
   "source": [
    "# Extract constraint matrices\n",
    "A_ = sparse(I, J, V);\n",
    "\n",
    "A = A_[row1, col1]\n",
    "T = A_[row2, col1]\n",
    "W = A_[row2, col2];"
   ]
  },
  {
   "cell_type": "markdown",
   "metadata": {},
   "source": [
    "### Convert `A` to standard form"
   ]
  },
  {
   "cell_type": "code",
   "execution_count": 473,
   "metadata": {},
   "outputs": [
    {
     "name": "stdout",
     "output_type": "stream",
     "text": [
      "n_ctr = 8\n"
     ]
    }
   ],
   "source": [
    "n_ctr = sum(senses[row1] .!= \"E\")  # Number of slack variables to be added\n",
    "println(\"n_ctr = $n_ctr\")\n",
    "m1 = length(row1)\n",
    "m2 = length(row2)\n",
    "\n",
    "n1 = length(col1)\n",
    "n2 = length(col2)\n",
    "\n",
    "S_mat = sparse(\n",
    "    [i for i in 1:m1 if senses[i] != \"E\"],\n",
    "    collect(1:n_ctr),\n",
    "    [senses[i] == \"L\" ? 1.0 : -1.0 for i in 1:m1 if senses[i] != \"E\"],\n",
    "    m1, n_ctr\n",
    ");"
   ]
  },
  {
   "cell_type": "code",
   "execution_count": 474,
   "metadata": {},
   "outputs": [
    {
     "data": {
      "text/plain": [
       "1:22"
      ]
     },
     "execution_count": 474,
     "metadata": {},
     "output_type": "execute_result"
    }
   ],
   "source": [
    "# Add slack coefficients to matrix\n",
    "A = hcat(A, S_mat);\n",
    "T = hcat(T, spzeros(m2, n_ctr))\n",
    "\n",
    "# Add zero coeffs to objective vector\n",
    "append!(c, zeros(n_ctr))\n",
    "\n",
    "# Shift all second-stage variables to account for first-stage slack\n",
    "for (k, v) in col2idx\n",
    "    if v > n1\n",
    "        col2idx[k] += n_ctr\n",
    "    end\n",
    "end\n",
    "col1 = col1[1]:(m1+n_ctr)"
   ]
  },
  {
   "cell_type": "code",
   "execution_count": 475,
   "metadata": {
    "collapsed": true
   },
   "outputs": [],
   "source": [
    "senses[row1] .= \"E\";"
   ]
  },
  {
   "cell_type": "markdown",
   "metadata": {},
   "source": [
    "### Convert W to standard form"
   ]
  },
  {
   "cell_type": "code",
   "execution_count": 476,
   "metadata": {},
   "outputs": [],
   "source": [
    "# Number of non-equality constraints\n",
    "n_ctr = sum(senses[row2] .!= \"E\")  # number of slack variables to be added\n",
    "\n",
    "m2 = length(row2)\n",
    "m1 = length(row1)\n",
    "\n",
    "S_mat = sparse(\n",
    "    [i for i in 1:m2 if senses[m1+i] != \"E\"],\n",
    "    collect(1:n_ctr),\n",
    "    [senses[m1+i] == \"L\" ? 1.0 : -1.0 for i in 1:m2 if senses[m1+i] != \"E\"],\n",
    "    m2, n_ctr\n",
    ");"
   ]
  },
  {
   "cell_type": "code",
   "execution_count": 477,
   "metadata": {},
   "outputs": [],
   "source": [
    "# Add slack variables to W matrix\n",
    "W = hcat(W, S_mat)\n",
    "\n",
    "# Add slack variables to objective\n",
    "append!(q, zeros(n_ctr));"
   ]
  },
  {
   "cell_type": "code",
   "execution_count": 478,
   "metadata": {},
   "outputs": [],
   "source": [
    "senses[row2] .= \"E\";"
   ]
  },
  {
   "cell_type": "code",
   "execution_count": 479,
   "metadata": {},
   "outputs": [],
   "source": [
    "# row2 = (m1+1):(m1+m2+n_ctr)"
   ]
  },
  {
   "cell_type": "markdown",
   "metadata": {},
   "source": [
    "## Parse `.sto` file"
   ]
  },
  {
   "cell_type": "code",
   "execution_count": 480,
   "metadata": {
    "collapsed": true
   },
   "outputs": [],
   "source": [
    "name, indeps, blocks = parse_sto_file(f_sto);"
   ]
  },
  {
   "cell_type": "code",
   "execution_count": 481,
   "metadata": {},
   "outputs": [
    {
     "data": {
      "text/plain": [
       "4096"
      ]
     },
     "execution_count": 481,
     "metadata": {},
     "output_type": "execute_result"
    }
   ],
   "source": [
    "# Extract each scenario from .sto data\n",
    "S_ = Base.Iterators.product(values(indeps)..., values(blocks)...)\n",
    "S = [prod(collect(s)) for s in S_]\n",
    "length(S)"
   ]
  },
  {
   "cell_type": "markdown",
   "metadata": {},
   "source": [
    "# Construct deterministic equivalent problem"
   ]
  },
  {
   "cell_type": "code",
   "execution_count": 482,
   "metadata": {},
   "outputs": [
    {
     "name": "stdout",
     "output_type": "stream",
     "text": [
      "  0.093582 seconds (378.60 k allocations: 67.313 MiB, 19.33% gc time)\n"
     ]
    }
   ],
   "source": [
    "@time pb_data = [generate_scenario_data(A, T, W, q, h, row2idx, col2idx, s.p, s.values) for s in S][:];"
   ]
  },
  {
   "cell_type": "code",
   "execution_count": 483,
   "metadata": {
    "collapsed": true
   },
   "outputs": [],
   "source": [
    "T_ = [x[1] for x in pb_data];\n",
    "W_ = [x[2] for x in pb_data];\n",
    "q_ = [x[3] for x in pb_data];\n",
    "h_ = [x[4] for x in pb_data];"
   ]
  },
  {
   "cell_type": "code",
   "execution_count": 484,
   "metadata": {},
   "outputs": [
    {
     "data": {
      "text/plain": [
       "4096"
      ]
     },
     "execution_count": 484,
     "metadata": {},
     "output_type": "execute_result"
    }
   ],
   "source": [
    "m1, n1 = size(A)\n",
    "m2, n2 = size(W)\n",
    "R = length(S)"
   ]
  },
  {
   "cell_type": "code",
   "execution_count": 444,
   "metadata": {},
   "outputs": [
    {
     "name": "stdout",
     "output_type": "stream",
     "text": [
      "  2.850399 seconds (101.25 k allocations: 4.653 GiB, 70.91% gc time)\n",
      " 14.222440 seconds (414.57 M allocations: 6.193 GiB, 3.44% gc time)\n"
     ]
    }
   ],
   "source": [
    "@time U = [\n",
    "    hcat(\n",
    "        T_[r],\n",
    "        spzeros(m2, n2*(r-1)),\n",
    "        W_[r],\n",
    "        spzeros(m2, n2*(R-r))\n",
    "    )\n",
    "    for r in 1:R\n",
    "];\n",
    "\n",
    "\n",
    "@time vU = vcat(U...);"
   ]
  },
  {
   "cell_type": "code",
   "execution_count": 445,
   "metadata": {},
   "outputs": [
    {
     "name": "stdout",
     "output_type": "stream",
     "text": [
      "  0.005885 seconds (31 allocations: 13.700 MiB, 28.42% gc time)\n"
     ]
    }
   ],
   "source": [
    "rhs_ = vcat(b, h_...)\n",
    "obj_ = vcat(c, q_...)\n",
    "senses_ = vcat(senses[1:m1], repeat(senses[(m1+1):end], R))\n",
    "n_ = length(obj_)\n",
    "m_ = length(rhs_)\n",
    "@time A_ = vcat(\n",
    "    hcat(A,spzeros(m1, n2*R)),\n",
    "    vU\n",
    ");\n",
    "\n",
    "rhs_l = rhs_ .- Inf .* (senses_ .== \"L\");\n",
    "rhs_u = rhs_ .+ Inf .* (senses_ .== \"G\");"
   ]
  },
  {
   "cell_type": "code",
   "execution_count": 446,
   "metadata": {},
   "outputs": [
    {
     "data": {
      "text/plain": [
       "((75790, 202812), 491816)"
      ]
     },
     "execution_count": 446,
     "metadata": {},
     "output_type": "execute_result"
    }
   ],
   "source": [
    "size(A_), nnz(A_)"
   ]
  },
  {
   "cell_type": "code",
   "execution_count": 447,
   "metadata": {},
   "outputs": [
    {
     "name": "stdout",
     "output_type": "stream",
     "text": [
      "MOSEK warning 710: #1 (nearly) zero elements are specified in sparse col '' (1) of matrix 'A'.\n",
      "MOSEK warning 710: #1 (nearly) zero elements are specified in sparse col '' (2) of matrix 'A'.\n",
      "MOSEK warning 710: #1 (nearly) zero elements are specified in sparse col '' (4) of matrix 'A'.\n",
      "MOSEK warning 710: #1 (nearly) zero elements are specified in sparse col '' (5) of matrix 'A'.\n",
      "MOSEK warning 710: #1 (nearly) zero elements are specified in sparse col '' (7) of matrix 'A'.\n",
      "MOSEK warning 710: #1 (nearly) zero elements are specified in sparse col '' (8) of matrix 'A'.\n",
      "MOSEK warning 710: #1 (nearly) zero elements are specified in sparse col '' (10) of matrix 'A'.\n",
      "MOSEK warning 710: #1 (nearly) zero elements are specified in sparse col '' (12) of matrix 'A'.\n",
      "MOSEK warning 710: #1 (nearly) zero elements are specified in sparse col '' (14) of matrix 'A'.\n",
      "MOSEK warning 710: #1 (nearly) zero elements are specified in sparse col '' (15) of matrix 'A'.\n"
     ]
    }
   ],
   "source": [
    "airl = MPB.LinearQuadraticModel(solver)\n",
    "MPB.loadproblem!(airl, A_, zeros(n_), Inf*ones(n_), obj_, rhs_l, rhs_u, :Min);"
   ]
  },
  {
   "cell_type": "code",
   "execution_count": 448,
   "metadata": {},
   "outputs": [
    {
     "name": "stdout",
     "output_type": "stream",
     "text": [
      "  3.696303 seconds (5 allocations: 256 bytes)\n"
     ]
    }
   ],
   "source": [
    "@time MPB.optimize!(airl)"
   ]
  },
  {
   "cell_type": "code",
   "execution_count": 449,
   "metadata": {},
   "outputs": [
    {
     "data": {
      "text/plain": [
       "434.1124999999987"
      ]
     },
     "execution_count": 449,
     "metadata": {},
     "output_type": "execute_result"
    }
   ],
   "source": [
    "MPB.getobjval(airl)"
   ]
  },
  {
   "cell_type": "markdown",
   "metadata": {},
   "source": [
    "Dual of (DEP) writes:\n",
    "\\begin{align*}\n",
    "    (D) \\ \\ \\ \\max_{\\eta, \\theta} \\ \\ \\ & b^{T}\\eta + \\sum_{i} h_{i}^{T} \\theta_{i}\\\\\n",
    "    s.t. \\ \\ \\ \n",
    "    & A^{T} \\eta + \\sum_{i} T_{i}^{T} \\theta_{i} \\leq c,\\\\\n",
    "    & W_{i}^{T} \\theta_{i} \\leq p_{i} q_{i}, \\ \\ \\ \\forall i.\n",
    "\\end{align*}"
   ]
  },
  {
   "cell_type": "code",
   "execution_count": 450,
   "metadata": {},
   "outputs": [
    {
     "name": "stdout",
     "output_type": "stream",
     "text": [
      "  2.147845 seconds (134.69 k allocations: 3.499 GiB, 47.71% gc time)\n",
      "  5.912881 seconds (155.20 M allocations: 2.326 GiB, 3.05% gc time)\n"
     ]
    }
   ],
   "source": [
    "@time U = [\n",
    "    hcat(\n",
    "        spzeros(n2, 2*m1+n1),\n",
    "        spzeros(n2, m2*(r-1)),\n",
    "        W_[r]',\n",
    "        spzeros(n2, m2*(R-r))\n",
    "    )\n",
    "    for r in 1:R\n",
    "];\n",
    "\n",
    "\n",
    "@time vU = vcat(U...);"
   ]
  },
  {
   "cell_type": "code",
   "execution_count": 451,
   "metadata": {},
   "outputs": [
    {
     "name": "stdout",
     "output_type": "stream",
     "text": [
      "  0.412309 seconds (95.19 k allocations: 1.012 GiB, 18.02% gc time)\n"
     ]
    }
   ],
   "source": [
    "obj_ = vcat(b, -b, zeros(n1), h_...)\n",
    "rhs_ = vcat(c, q_...)\n",
    "senses_ = fill(\"L\", length(rhs_))\n",
    "n_ = length(obj_)\n",
    "m_ = length(rhs_)\n",
    "@time A_ = vcat(\n",
    "    hcat(A', -A', sparse(1:n1, 1:n1, ones(n1)),transpose.(T_)...),\n",
    "    vU\n",
    ");\n",
    "\n",
    "rhs_l = fill(-Inf, length(rhs_));\n",
    "rhs_u = copy(rhs_);\n",
    "\n",
    "var_l = vcat(zeros(2*m1+n1), fill(-Inf, R*m2))\n",
    "var_u = fill(Inf, n_);"
   ]
  },
  {
   "cell_type": "code",
   "execution_count": 452,
   "metadata": {},
   "outputs": [],
   "source": [
    "airl = MPB.LinearQuadraticModel(solver)\n",
    "MPB.loadproblem!(airl, A_, var_l, var_u, obj_, rhs_l, rhs_u, :Max);"
   ]
  },
  {
   "cell_type": "code",
   "execution_count": 453,
   "metadata": {},
   "outputs": [
    {
     "name": "stdout",
     "output_type": "stream",
     "text": [
      "  4.896854 seconds (5 allocations: 256 bytes)\n"
     ]
    }
   ],
   "source": [
    "@time MPB.optimize!(airl)"
   ]
  },
  {
   "cell_type": "code",
   "execution_count": 454,
   "metadata": {},
   "outputs": [
    {
     "data": {
      "text/plain": [
       "434.112500067542"
      ]
     },
     "execution_count": 454,
     "metadata": {},
     "output_type": "execute_result"
    }
   ],
   "source": [
    "MPB.getobjval(airl)"
   ]
  },
  {
   "cell_type": "code",
   "execution_count": 455,
   "metadata": {},
   "outputs": [
    {
     "data": {
      "text/plain": [
       "434.112500067542"
      ]
     },
     "execution_count": 455,
     "metadata": {},
     "output_type": "execute_result"
    }
   ],
   "source": [
    "MPB.getobjval(airl)"
   ]
  },
  {
   "cell_type": "markdown",
   "metadata": {},
   "source": [
    "# Column-generation formulation"
   ]
  },
  {
   "cell_type": "markdown",
   "metadata": {},
   "source": [
    "## Create oracles"
   ]
  },
  {
   "cell_type": "code",
   "execution_count": 456,
   "metadata": {
    "collapsed": true
   },
   "outputs": [],
   "source": [
    "import Gurobi: GurobiSolver"
   ]
  },
  {
   "cell_type": "code",
   "execution_count": 506,
   "metadata": {},
   "outputs": [
    {
     "name": "stdout",
     "output_type": "stream",
     "text": [
      "Academic license - for non-commercial use only\n"
     ]
    },
    {
     "data": {
      "text/plain": [
       "GurobiSolver(Gurobi.Env(Ptr{Nothing} @0x0000000081862c10), Base.Iterators.Pairs{Symbol,Real,NTuple{6,Symbol},NamedTuple{(:OutputFlag, :Threads, :Presolve, :FeasibilityTol, :OptimalityTol, :Method),Tuple{Int64,Int64,Int64,Float64,Float64,Int64}}}(:OutputFlag=>0,:Threads=>1,:Presolve=>0,:FeasibilityTol=>1.0e-8,:OptimalityTol=>1.0e-8,:Method=>2))"
      ]
     },
     "execution_count": 506,
     "metadata": {},
     "output_type": "execute_result"
    }
   ],
   "source": [
    "GRBENV = Gurobi.Env()\n",
    "spSolver = GurobiSolver(GRBENV, OutputFlag=0, Threads=1, Presolve=0, FeasibilityTol=1e-8, OptimalityTol=1e-8, Method=2)"
   ]
  },
  {
   "cell_type": "code",
   "execution_count": 510,
   "metadata": {},
   "outputs": [],
   "source": [
    "# Instanciate sub-problems\n",
    "pool = Linda.Oracle.LindaOraclePool([\n",
    "    Linda.Oracle.LindaOracleMIP(\n",
    "        r,\n",
    "        -h_[r],\n",
    "        sparse(T_[r]'),\n",
    "        sparse(W_[r]'),\n",
    "        fill(-Inf, n2), q_[r],  # right-hand side\n",
    "        fill(:Cont, m2),\n",
    "        fill(-Inf, m2), fill(Inf, m2),\n",
    "        spSolver\n",
    "    )\n",
    "    for r in 1:R\n",
    "]);"
   ]
  },
  {
   "cell_type": "code",
   "execution_count": 512,
   "metadata": {},
   "outputs": [
    {
     "name": "stdout",
     "output_type": "stream",
     "text": [
      "  8.372339 seconds (674.32 k allocations: 165.165 MiB, 0.31% gc time)\n"
     ]
    }
   ],
   "source": [
    "# Create initial columns by computing minimum cost schedule for each house\n",
    "initial_cols = Linda.Column[]\n",
    "\n",
    "@time for o in pool.oracles\n",
    "    Linda.Oracle.query!(o, zeros(size(T, 2)), Inf)\n",
    "    col = Linda.Oracle.get_new_columns(o)[1]\n",
    "#     col = Linda.Column(1e4, zeros(size(T, 2)), true, o.index)\n",
    "    push!(initial_cols, col)\n",
    "end\n",
    ";"
   ]
  },
  {
   "cell_type": "markdown",
   "metadata": {},
   "source": [
    "### Create Master"
   ]
  },
  {
   "cell_type": "code",
   "execution_count": 487,
   "metadata": {},
   "outputs": [
    {
     "data": {
      "text/plain": [
       "generate_rmp (generic function with 1 method)"
      ]
     },
     "execution_count": 487,
     "metadata": {},
     "output_type": "execute_result"
    }
   ],
   "source": [
    "function generate_rmp(A, R, rowlb, rowub, obj, columns, rmp_solver)\n",
    "    \n",
    "    rmp = MPB.LinearQuadraticModel(rmp_solver)\n",
    "    \n",
    "    A0 = vcat(\n",
    "        spzeros(R, 2*size(A, 2)+size(A, 1)),\n",
    "        hcat(A, -A, sparse(1:size(A, 1), 1:size(A, 1), ones(size(A, 1))))\n",
    "    )\n",
    "    A_ = hcat(\n",
    "        A0,\n",
    "        vcat(\n",
    "            hcat([sparsevec([c.idx_subproblem], [1.0], R) for c in columns]...),\n",
    "            hcat([c.col for c in columns]...)\n",
    "        )\n",
    "    )\n",
    "    \n",
    "    obj_ = vcat(obj, -obj, zeros(size(A, 1)), vcat([col.cost for col in columns]...))\n",
    "    \n",
    "    rowlb_ = vcat(ones(R), rowlb)\n",
    "    rowub_ = vcat(ones(R), rowub)\n",
    "    \n",
    "#     display([rowlb_ rowub_])\n",
    "    \n",
    "    collb_ = zeros(2*length(obj) + size(A, 1) + length(columns))\n",
    "    colub_ = Inf .* ones(2*length(obj) + size(A, 1) + length(columns))\n",
    "    \n",
    "#     println(size(A_))\n",
    "#     println(length(collb_), \"\\t\", length(colub_))\n",
    "    \n",
    "    MPB.loadproblem!(rmp, A_, collb_, colub_, obj_, rowlb_, rowub_, :Min)\n",
    "    \n",
    "    return rmp\n",
    "end"
   ]
  },
  {
   "cell_type": "code",
   "execution_count": 513,
   "metadata": {},
   "outputs": [
    {
     "name": "stdout",
     "output_type": "stream",
     "text": [
      "Academic license - for non-commercial use only\n"
     ]
    }
   ],
   "source": [
    "rmp = generate_rmp(A', R, c, c, -b, initial_cols, \n",
    "#     MosekSolver(\n",
    "#         MSK_IPAR_PRESOLVE_USE=0,\n",
    "#         MSK_IPAR_LOG=0,\n",
    "#         MSK_IPAR_OPTIMIZER=3\n",
    "#     )\n",
    "    GurobiSolver(OutputFlag=0, Threads=1, Presolve=0, FeasibilityTol=1e-8, OptimalityTol=1e-8, Method=2)\n",
    ")\n",
    "\n",
    "mp = Linda.LindaMaster(R, length(c), c, 2*size(A, 1)+size(A, 2), initial_cols, rmp);"
   ]
  },
  {
   "cell_type": "code",
   "execution_count": 514,
   "metadata": {},
   "outputs": [
    {
     "data": {
      "text/plain": [
       "410"
      ]
     },
     "execution_count": 514,
     "metadata": {},
     "output_type": "execute_result"
    }
   ],
   "source": [
    "env = Linda.LindaEnv();\n",
    "env[:verbose] = 1\n",
    "env[:num_cgiter_max] = 75\n",
    "env[:num_columns_max] = div(R, 10)+1"
   ]
  },
  {
   "cell_type": "markdown",
   "metadata": {},
   "source": [
    "### Solve"
   ]
  },
  {
   "cell_type": "code",
   "execution_count": 515,
   "metadata": {
    "scrolled": false
   },
   "outputs": [
    {
     "name": "stdout",
     "output_type": "stream",
     "text": [
      "Itn     Primal Obj        Dual Obj         NCols    MP(s)    SP(s)   Tot(s)  BarIter  SpxIter\n",
      "   0    +1.0378460e+06            -Inf      4096     0.16     1.29     1.46       10       31\n",
      "   1    +9.6356429e+05            -Inf      4506     0.33     2.41     2.75       23       54\n",
      "   2    +8.6678099e+05            -Inf      4916     0.54     3.72     4.26       42       81\n",
      "   3    +7.6968734e+05            -Inf      5326     0.77     5.18     5.96       64      107\n",
      "   4    +6.7332532e+05            -Inf      5736     1.00     6.77     7.78       84      132\n",
      "   5    +5.7641607e+05            -Inf      6146     1.23     8.72     9.97      103      161\n",
      "   6    +4.7935134e+05            -Inf      6556     1.47    11.06    12.55      125      183\n",
      "   7    +3.8222506e+05            -Inf      6966     1.71    14.29    16.02      145      205\n",
      "   8    +2.8542010e+05            -Inf      7376     1.93    18.64    20.58      162      232\n",
      "   9    +1.8791773e+05            -Inf      7786     2.16    24.79    26.96      180      255\n",
      "  10    +9.2085717e+04  -3.1709000e+03      8196     2.36    36.82    39.21      196      279\n",
      "  11    -3.0774480e+02  -3.1709000e+03      8602     2.91    37.84    40.77      236      306\n",
      "  12    -3.3791671e+02  -3.1709000e+03      9012     3.90    38.71    42.64      286     5262\n",
      "  13    -3.5863553e+02  -3.1709000e+03      9422     4.45    39.53    44.02      306     5288\n",
      "  14    -3.6661714e+02  -3.1709000e+03      9832     5.70    40.38    46.11      369    11070\n",
      "  15    -3.7864788e+02  -3.1709000e+03     10242     6.64    41.29    47.98      412    21388\n",
      "  16    -3.8501204e+02  -3.1709000e+03     10652     7.52    42.16    49.73      446    27983\n",
      "  17    -4.0460171e+02  -3.1709000e+03     11062     8.67    43.03    51.76      496    34996\n",
      "  18    -4.1611393e+02  -3.1709000e+03     11472     9.34    43.88    53.28      523    35035\n",
      "  19    -4.2132808e+02  -3.1709000e+03     11882    10.61    44.75    55.42      572    42875\n",
      "  20    -4.2132954e+02  -3.1709000e+03     12292    11.56    45.66    57.29      610    42916\n",
      "  21    -4.3050666e+02  -3.1709000e+03     12702    12.12    46.51    58.70      630    42983\n",
      "  22    -4.3054432e+02  -3.1709000e+03     13112    13.76    47.35    61.19      685    52045\n",
      "  23    -4.3209463e+02  -3.1709000e+03     13522    14.66    48.38    63.12      718    52705\n",
      "  24    -4.3325603e+02  -3.1709000e+03     13932    15.63    49.49    65.19      751    52936\n",
      "  25    -4.3478996e+02  -3.1709000e+03     14342    16.34    50.76    67.17      772    53317\n",
      "  26    -4.3629945e+02  -3.1709000e+03     14752    17.48    52.19    69.76      811    53599\n",
      "  27    -4.3780820e+02  -3.1709000e+03     15162    18.10    53.84    72.03      835    53719\n",
      "  28    -4.3930964e+02  -3.1709000e+03     15572    18.62    55.85    74.55      854    56313\n",
      "  29    -4.4086203e+02  -3.1709000e+03     15982    19.95    57.97    78.01      891    68250\n",
      "  30    -4.4236453e+02  -3.1709000e+03     16392    20.63    60.76    81.48      912    68377\n",
      "  31    -4.4358143e+02  -3.1709000e+03     16802    21.87    64.90    86.86      955    73066\n",
      "  32    -4.4504886e+02  -3.1709000e+03     17212    23.90    73.59    97.59     1026    86253\n",
      "  33    -4.4654270e+02  -4.4686934e+02     17622    25.53    83.66   109.29     1082    99896\n",
      "  34    -4.4681857e+02  -4.4686934e+02     17816    28.15    92.20   120.45     1174   113780\n",
      "  35    -4.4684714e+02  -4.4686934e+02     17857    30.17   100.96   131.22     1246   127669\n",
      "Root relaxation solved.\n",
      "\n",
      "Total time / MP: 30.17s\n",
      "Total time / SP: 100.96s\n",
      "Total time / CG: 131.22s\n",
      "Inner barrier iterations: 1246\n",
      "Inner simplex iterations: 127669\n",
      "Pricing calls: 40824\n"
     ]
    },
    {
     "data": {
      "text/plain": [
       "Optimal::Status = 4"
      ]
     },
     "execution_count": 515,
     "metadata": {},
     "output_type": "execute_result"
    }
   ],
   "source": [
    "Linda.solve_colgen!(env, mp, pool)"
   ]
  },
  {
   "cell_type": "markdown",
   "metadata": {},
   "source": [
    "### Check that all reduced costs are indeed zero"
   ]
  },
  {
   "cell_type": "code",
   "execution_count": 409,
   "metadata": {},
   "outputs": [],
   "source": [
    "MPB.optimize!(rmp)"
   ]
  },
  {
   "cell_type": "code",
   "execution_count": 464,
   "metadata": {},
   "outputs": [
    {
     "data": {
      "text/plain": [
       "5.761321961804095e-13"
      ]
     },
     "execution_count": 464,
     "metadata": {},
     "output_type": "execute_result"
    }
   ],
   "source": [
    "A_rmp = MPB.getconstrmatrix(rmp)\n",
    "redcosts = MPB.getreducedcosts(rmp)\n",
    "y = MPB.getconstrduals(rmp)\n",
    "x = MPB.getsolution(rmp)\n",
    "c_rmp = MPB.getobj(rmp);\n",
    "b_rmp = MPB.getconstrLB(rmp)\n",
    "\n",
    "norm((c_rmp .- A_rmp'*y) .- redcosts)"
   ]
  },
  {
   "cell_type": "code",
   "execution_count": 465,
   "metadata": {},
   "outputs": [
    {
     "data": {
      "text/plain": [
       "0.6062123319425128"
      ]
     },
     "execution_count": 465,
     "metadata": {},
     "output_type": "execute_result"
    }
   ],
   "source": [
    "sum([nnz(sparse(col.col)) for col in mp.active_columns]) / (mp.num_columns_rmp * mp.num_constr_link)"
   ]
  },
  {
   "cell_type": "code",
   "execution_count": 411,
   "metadata": {},
   "outputs": [
    {
     "data": {
      "text/plain": [
       "(-7.3422654622845585e-9, 410.66499998805915)"
      ]
     },
     "execution_count": 411,
     "metadata": {},
     "output_type": "execute_result"
    }
   ],
   "source": [
    "extrema(c_rmp .- A_rmp'*y)"
   ]
  },
  {
   "cell_type": "code",
   "execution_count": 412,
   "metadata": {},
   "outputs": [
    {
     "data": {
      "text/plain": [
       "(-7.342254804143522e-9, 410.66499998805915)"
      ]
     },
     "execution_count": 412,
     "metadata": {},
     "output_type": "execute_result"
    }
   ],
   "source": [
    "extrema(redcosts)"
   ]
  },
  {
   "cell_type": "code",
   "execution_count": 329,
   "metadata": {},
   "outputs": [
    {
     "data": {
      "text/plain": [
       "94-element Array{Float64,1}:\n",
       "     0.0                   \n",
       "     0.0                   \n",
       "     0.0                   \n",
       "     0.0                   \n",
       "     0.0                   \n",
       "     1.451667259713812e-15 \n",
       "     0.0                   \n",
       "     0.0                   \n",
       "    -4.440892104704481e-16 \n",
       "     4.713424704661034e-17 \n",
       "     0.0                   \n",
       "     0.0                   \n",
       "    -1.5262457964126952e-11\n",
       "     ⋮                     \n",
       "    20.081363111283036     \n",
       "    21.12500000000079      \n",
       "   432.26408355795144      \n",
       "   240.0                   \n",
       "    47.73591644204853      \n",
       "     0.0                   \n",
       "     0.0                   \n",
       "     0.0                   \n",
       " 12315.999999991305        \n",
       " 29425.87635731887         \n",
       "     0.0                   \n",
       "     0.0                   "
      ]
     },
     "execution_count": 329,
     "metadata": {},
     "output_type": "execute_result"
    }
   ],
   "source": [
    "redcosts"
   ]
  },
  {
   "cell_type": "code",
   "execution_count": 330,
   "metadata": {},
   "outputs": [],
   "source": [
    "y = MPB.getconstrduals(rmp)\n",
    "y1 = y[1:R];\n",
    "y2 = y[(1+R):end];\n",
    "# y2 .*= 0.0;"
   ]
  },
  {
   "cell_type": "code",
   "execution_count": 331,
   "metadata": {},
   "outputs": [
    {
     "name": "stdout",
     "output_type": "stream",
     "text": [
      "  0.001616 seconds (107 allocations: 33.625 KiB)\n"
     ]
    }
   ],
   "source": [
    "red_costs = zeros(R)\n",
    "@time for r in 1:R\n",
    "    # Solve sub-problem\n",
    "    Linda.Oracle.query!(pool.oracles[r], y2, y1[r], farkas=false)\n",
    "    # Get column\n",
    "    col = Linda.Oracle.get_new_columns(pool.oracles[r])[1]\n",
    "    red_costs[r] = Linda.get_reduced_cost(col, y2, y1[r], false)\n",
    "end"
   ]
  },
  {
   "cell_type": "code",
   "execution_count": 332,
   "metadata": {},
   "outputs": [
    {
     "data": {
      "text/plain": [
       "1-element Array{Float64,1}:\n",
       " -55337.39999999197"
      ]
     },
     "execution_count": 332,
     "metadata": {},
     "output_type": "execute_result"
    }
   ],
   "source": [
    "red_costs"
   ]
  },
  {
   "cell_type": "code",
   "execution_count": 333,
   "metadata": {},
   "outputs": [
    {
     "data": {
      "text/plain": [
       "Linda.Column{Float64,Array{Float64,1}}(-77109.4, [20784.0, 20784.0, 20784.0, 20784.0, 10392.0, 20784.0, 20784.0, 20784.0, 20784.0, 20784.0  …  0.0, 7794.0, 0.0, 0.0, 0.0, 0.0, 0.0, 0.0, 0.0, 0.0], true, false, 1, -1)"
      ]
     },
     "execution_count": 333,
     "metadata": {},
     "output_type": "execute_result"
    }
   ],
   "source": [
    "col_new = Linda.Oracle.get_new_columns(pool.oracles[1])[1]"
   ]
  },
  {
   "cell_type": "code",
   "execution_count": 85,
   "metadata": {},
   "outputs": [
    {
     "data": {
      "text/plain": [
       "Optimal::Status = 4"
      ]
     },
     "execution_count": 85,
     "metadata": {},
     "output_type": "execute_result"
    }
   ],
   "source": [
    "Linda.Oracle.query!(pool, y2, y1, log=Dict(:nsp_priced => 0))"
   ]
  },
  {
   "cell_type": "code",
   "execution_count": null,
   "metadata": {
    "collapsed": true
   },
   "outputs": [],
   "source": []
  },
  {
   "cell_type": "code",
   "execution_count": 501,
   "metadata": {},
   "outputs": [
    {
     "ename": "MethodError",
     "evalue": "MethodError: no method matching add_constrs!(::Gurobi.Model, ::Adjoint{Float64,SparseMatrixCSC{Float64,Int64}}, ::Array{Int8,1}, ::Array{Float64,1})\nClosest candidates are:\n  add_constrs!(::Gurobi.Model, !Matched::Array{T,1} where T, ::Array{T,1} where T, ::Array{T,1} where T, !Matched::Union{Char, Int8, Array{Char,1}, Array{Int8,1}}, !Matched::Array{T,1} where T) at /home/mathieu/.julia/packages/Gurobi/gVz8n/src/grb_constrs.jl:70\n  add_constrs!(::Gurobi.Model, !Matched::Union{Array{Float64,2}, SparseMatrixCSC{Float64,Ti} where Ti<:Integer}, ::Union{Char, Int8, Array{Char,1}, Array{Int8,1}}, ::Array{Float64,1}) at /home/mathieu/.julia/packages/Gurobi/gVz8n/src/grb_constrs.jl:86\n  add_constrs!(::Gurobi.Model, !Matched::Array{Int32,1}, !Matched::Array{Int32,1}, ::Array{Float64,1}, !Matched::Array{Int8,1}, !Matched::Array{Float64,1}) at /home/mathieu/.julia/packages/Gurobi/gVz8n/src/grb_constrs.jl:43",
     "output_type": "error",
     "traceback": [
      "MethodError: no method matching add_constrs!(::Gurobi.Model, ::Adjoint{Float64,SparseMatrixCSC{Float64,Int64}}, ::Array{Int8,1}, ::Array{Float64,1})\nClosest candidates are:\n  add_constrs!(::Gurobi.Model, !Matched::Array{T,1} where T, ::Array{T,1} where T, ::Array{T,1} where T, !Matched::Union{Char, Int8, Array{Char,1}, Array{Int8,1}}, !Matched::Array{T,1} where T) at /home/mathieu/.julia/packages/Gurobi/gVz8n/src/grb_constrs.jl:70\n  add_constrs!(::Gurobi.Model, !Matched::Union{Array{Float64,2}, SparseMatrixCSC{Float64,Ti} where Ti<:Integer}, ::Union{Char, Int8, Array{Char,1}, Array{Int8,1}}, ::Array{Float64,1}) at /home/mathieu/.julia/packages/Gurobi/gVz8n/src/grb_constrs.jl:86\n  add_constrs!(::Gurobi.Model, !Matched::Array{Int32,1}, !Matched::Array{Int32,1}, ::Array{Float64,1}, !Matched::Array{Int8,1}, !Matched::Array{Float64,1}) at /home/mathieu/.julia/packages/Gurobi/gVz8n/src/grb_constrs.jl:43",
      "",
      "Stacktrace:",
      " [1] macro expansion at ./logging.jl:324 [inlined]",
      " [2] loadproblem!(::Gurobi.GurobiMathProgModel, ::Adjoint{Float64,SparseMatrixCSC{Float64,Int64}}, ::Array{Float64,1}, ::Array{Float64,1}, ::Array{Float64,1}, ::Array{Float64,1}, ::Array{Float64,1}, ::Symbol) at /home/mathieu/.julia/packages/Gurobi/gVz8n/src/MPBWrapper.jl:146",
      " [3] top-level scope at In[501]:6"
     ]
    }
   ],
   "source": [
    "oracle = pool.oracles[1];\n",
    "\n",
    "sp = MPB.LinearQuadraticModel(spSolver)\n",
    "\n",
    "obj = oracle.costs - oracle.A_link' * y2\n",
    "\n",
    "MPB.loadproblem!(\n",
    "    sp,\n",
    "    oracle.A_sub,\n",
    "    oracle.col_lb,\n",
    "    oracle.col_ub,\n",
    "    obj,\n",
    "    oracle.row_lb,\n",
    "    oracle.row_ub,\n",
    "    :Min\n",
    ")\n",
    "MPB.setvartype!(sp, oracle.vartypes)\n",
    "MPB.optimize!(sp)"
   ]
  },
  {
   "cell_type": "markdown",
   "metadata": {},
   "source": [
    "### Check that columns were properly added"
   ]
  },
  {
   "cell_type": "code",
   "execution_count": 96,
   "metadata": {},
   "outputs": [
    {
     "data": {
      "text/plain": [
       "60-element Array{Bool,1}:\n",
       "  true\n",
       "  true\n",
       "  true\n",
       "  true\n",
       "  true\n",
       "  true\n",
       "  true\n",
       "  true\n",
       "  true\n",
       "  true\n",
       "  true\n",
       "  true\n",
       "  true\n",
       "     ⋮\n",
       " false\n",
       " false\n",
       " false\n",
       " false\n",
       " false\n",
       " false\n",
       " false\n",
       " false\n",
       " false\n",
       " false\n",
       " false\n",
       " false"
      ]
     },
     "execution_count": 96,
     "metadata": {},
     "output_type": "execute_result"
    }
   ],
   "source": [
    "[c.is_vertex for c in mp.active_columns]"
   ]
  },
  {
   "cell_type": "code",
   "execution_count": 118,
   "metadata": {},
   "outputs": [
    {
     "data": {
      "text/plain": [
       "Linda.Column{Float64,Array{Float64,1}}(0.0, [0.0, 0.0, 0.0, 0.0, 0.0, 0.0, 0.0, 0.0, 0.0, 0.0  …  0.0, 6.0, 0.0, 0.0, 0.0, 0.0, 0.0, 0.0, 0.0, 0.0], false, true, 1, 60)"
      ]
     },
     "execution_count": 118,
     "metadata": {},
     "output_type": "execute_result"
    }
   ],
   "source": [
    "col_ref = mp.active_columns[end]"
   ]
  },
  {
   "cell_type": "code",
   "execution_count": 119,
   "metadata": {},
   "outputs": [
    {
     "data": {
      "text/plain": [
       "60-element SparseVector{Float64,Int64} with 2 stored entries:\n",
       "  [26]  =  8.0\n",
       "  [52]  =  6.0"
      ]
     },
     "execution_count": 119,
     "metadata": {},
     "output_type": "execute_result"
    }
   ],
   "source": [
    "sparse(col_ref.col)"
   ]
  },
  {
   "cell_type": "code",
   "execution_count": 121,
   "metadata": {},
   "outputs": [
    {
     "data": {
      "text/plain": [
       "0.0"
      ]
     },
     "execution_count": 121,
     "metadata": {},
     "output_type": "execute_result"
    }
   ],
   "source": [
    "x = MPB.getsolution(rmp)\n",
    "x[mp.num_var_link+col_ref.idx_column]"
   ]
  },
  {
   "cell_type": "code",
   "execution_count": 120,
   "metadata": {},
   "outputs": [
    {
     "data": {
      "text/plain": [
       "61-element SparseVector{Float64,Int32} with 2 stored entries:\n",
       "  [27]  =  8.0\n",
       "  [53]  =  6.0"
      ]
     },
     "execution_count": 120,
     "metadata": {},
     "output_type": "execute_result"
    }
   ],
   "source": [
    "A_rmp[:, mp.num_var_link+col_ref.idx_column]"
   ]
  },
  {
   "cell_type": "code",
   "execution_count": 93,
   "metadata": {},
   "outputs": [
    {
     "data": {
      "text/plain": [
       "61-element SparseVector{Float64,Int32} with 2 stored entries:\n",
       "  [27]  =  8.0\n",
       "  [53]  =  6.0"
      ]
     },
     "execution_count": 93,
     "metadata": {},
     "output_type": "execute_result"
    }
   ],
   "source": [
    "MPB.numvar(rmp)\n",
    "A_rmp = MPB.getconstrmatrix(rmp)\n",
    "A_rmp[:, end]"
   ]
  }
 ],
 "metadata": {
  "kernelspec": {
   "display_name": "Julia 1.0.1",
   "language": "julia",
   "name": "julia-1.0"
  },
  "language_info": {
   "file_extension": ".jl",
   "mimetype": "application/julia",
   "name": "julia",
   "version": "1.0.1"
  }
 },
 "nbformat": 4,
 "nbformat_minor": 2
}
