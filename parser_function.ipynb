{
 "cells": [
  {
   "cell_type": "code",
   "execution_count": 1,
   "metadata": {},
   "outputs": [],
   "source": [
    "using LinearAlgebra\n",
    "using SparseArrays\n",
    "using Printf"
   ]
  },
  {
   "cell_type": "code",
   "execution_count": 2,
   "metadata": {},
   "outputs": [],
   "source": [
    "import MathProgBase\n",
    "MPB = MathProgBase\n",
    "\n",
    "import Mosek:MosekSolver"
   ]
  },
  {
   "cell_type": "code",
   "execution_count": 3,
   "metadata": {},
   "outputs": [],
   "source": [
    "solver = MosekSolver();"
   ]
  },
  {
   "cell_type": "markdown",
   "metadata": {},
   "source": [
    "# TSSP formulation"
   ]
  },
  {
   "cell_type": "markdown",
   "metadata": {},
   "source": [
    "Deterministic equivalent:\n",
    "\n",
    "\\begin{align*}\n",
    "    (DEP) \\ \\ \\ \\min_{x, y} \\ \\ \\ & c^{T}x + \\sum_{i} p_{i} q_{i}^{T} y_{i}\\\\\n",
    "    s.t. \\ \\ \\ \n",
    "    & Ax = b,\\\\\n",
    "    & T_{i} x + W_{i}y_{i} = h_{i}, \\ \\ \\ \\forall i,\\\\\n",
    "    & x \\geq 0,\\\\\n",
    "    & y_{i} \\geq 0, \\ \\ \\ \\forall i.\n",
    "\\end{align*}"
   ]
  },
  {
   "cell_type": "markdown",
   "metadata": {},
   "source": [
    "Dual of (DEP) writes:\n",
    "\\begin{align*}\n",
    "    (D) \\ \\ \\ \\max_{\\eta, \\theta} \\ \\ \\ & b^{T}\\eta + \\sum_{i} h_{i}^{T} \\theta_{i}\\\\\n",
    "    s.t. \\ \\ \\ \n",
    "    & A^{T} \\eta + \\sum_{i} T_{i}^{T} \\theta_{i} \\leq c,\\\\\n",
    "    & W_{i}^{T} \\theta_{i} \\leq p_{i} q_{i}, \\ \\ \\ \\forall i.\n",
    "\\end{align*}"
   ]
  },
  {
   "cell_type": "markdown",
   "metadata": {},
   "source": [
    "We wolve (D) by column generation. Note that it amounts to the same as solving (DEP) by Benders.\n",
    "\n",
    "The Master problem writes\n",
    "\\begin{align*}\n",
    "    (D) \\ \\ \\ \\min_{\\eta, \\theta} \\ \\ \\ & -b^{T}\\eta - \\sum_{i, \\omega} h_{i, \\omega} \\lambda_{i, \\omega} - \\sum_{i, \\rho} h_{i, \\rho} \\lambda_{i, \\rho}\\\\\n",
    "    s.t. \\ \\ \\ \n",
    "    & A^{T} \\eta + \\sum_{i, \\omega} t_{i, \\omega} \\lambda_{i, \\omega} + \\sum_{i, \\rho} t_{i, \\rho} \\lambda_{i, \\rho} \\leq c, & [\\pi]\\\\\n",
    "    & \\sum_{i} \\lambda_{i, \\omega} = 1, \\ \\ \\ \\forall i, & [\\sigma_{i}]\\\\\n",
    "    & \\lambda \\geq 0.\n",
    "\\end{align*}\n",
    "\n",
    "and the sub-problem writes:\n",
    "\\begin{align*}\n",
    "    (SP) \\ \\ \\ \\min_{\\theta_{i}} \\ \\ \\ & (-h_{i}^{T} - \\pi^{T} T_{i}^{T}) \\theta_{i} - \\sigma_{i}\\\\\n",
    "    s.t. \\ \\ \\ \n",
    "    & W_{i}^{T} \\theta_{i} \\leq p_{i} q_{i}.\n",
    "\\end{align*}"
   ]
  },
  {
   "cell_type": "markdown",
   "metadata": {},
   "source": [
    "# Source code"
   ]
  },
  {
   "cell_type": "code",
   "execution_count": 4,
   "metadata": {},
   "outputs": [
    {
     "data": {
      "text/plain": [
       "parse_block_line! (generic function with 1 method)"
      ]
     },
     "execution_count": 4,
     "metadata": {},
     "output_type": "execute_result"
    }
   ],
   "source": [
    "include(\"src/TSSP/parser/core_parser.jl\")\n",
    "include(\"src/TSSP/parser/time_parser.jl\")\n",
    "include(\"src/TSSP/parser/stoch_parser.jl\")"
   ]
  },
  {
   "cell_type": "code",
   "execution_count": 5,
   "metadata": {},
   "outputs": [
    {
     "data": {
      "text/plain": [
       "generate_scenario_data (generic function with 1 method)"
      ]
     },
     "execution_count": 5,
     "metadata": {},
     "output_type": "execute_result"
    }
   ],
   "source": [
    "function generate_scenario_data(\n",
    "        A, T, W, q, h,\n",
    "        row2idx, col2idx, \n",
    "        prob, coeffs\n",
    ")\n",
    "    m1, n1 = size(A)\n",
    "    m2, n2 = size(W)\n",
    "    m2 == size(T, 1) || error(\"T and W has different number of rows.\")\n",
    "    n1 == size(T, 2) || error(\"T and A has different number of columns.\")\n",
    "    \n",
    "    # Create problem data\n",
    "    h_ = copy(h)          # Right-hand side\n",
    "    q_ = prob .* copy(q)  # Objective ()\n",
    "    \n",
    "    T_ = copy(T)          # T_r matrix\n",
    "    W_ = copy(W)          # W_r\n",
    "    \n",
    "    \n",
    "    for (k, v) in coeffs\n",
    "        row::Int = row2idx[k[1]]\n",
    "        col::Int = col2idx[k[2]]\n",
    "        \n",
    "        row == 0 || row > m1 || error(\"Entry given for first-stage row $(k[1])\")\n",
    "        \n",
    "        # Check four cases\n",
    "        if row == 0 && col > 0\n",
    "            # Objective coefficient\n",
    "#             println(\"Obj: $k: $v\")\n",
    "            q_[col - n1] = v\n",
    "            \n",
    "        elseif row > 0 && col == 0\n",
    "            # Right-hand side\n",
    "#             println(\"Rhs: $k \\t $v\")\n",
    "            h_[row - m1] = v\n",
    "            \n",
    "        elseif row > 0 && col > 0\n",
    "            # Check whether belongs to T or W\n",
    "            if col <= n1\n",
    "                T[row - m1, col] = v\n",
    "            else\n",
    "                W[row - m1, col - n1] = v\n",
    "            end\n",
    "        else\n",
    "            eror(\"Wrong combination of row/col indices: $k\")\n",
    "        end\n",
    "    end\n",
    "    \n",
    "    return T_, W_, q_, h_\n",
    "end"
   ]
  },
  {
   "cell_type": "markdown",
   "metadata": {},
   "source": [
    "# Test instance files"
   ]
  },
  {
   "cell_type": "code",
   "execution_count": 48,
   "metadata": {},
   "outputs": [
    {
     "data": {
      "text/plain": [
       "\"data/tssp/4node.tim\""
      ]
     },
     "execution_count": 48,
     "metadata": {},
     "output_type": "execute_result"
    }
   ],
   "source": [
    "f_cor = \"data/tssp/4node.cor\"\n",
    "f_sto = \"data/tssp/4node.sto.1024\"\n",
    "f_tim = \"data/tssp/4node.tim\""
   ]
  },
  {
   "cell_type": "markdown",
   "metadata": {},
   "source": [
    "# Parse test instance"
   ]
  },
  {
   "cell_type": "markdown",
   "metadata": {},
   "source": [
    "## Parse `.cor` file"
   ]
  },
  {
   "cell_type": "code",
   "execution_count": 49,
   "metadata": {},
   "outputs": [],
   "source": [
    "# Extract data from .cor file\n",
    "d, row2idx, col2idx, I, J, V, objI, objV, rhsI, rhsV, senses = parse_cor_file(f_cor);"
   ]
  },
  {
   "cell_type": "markdown",
   "metadata": {},
   "source": [
    "## Parse `.tim` file"
   ]
  },
  {
   "cell_type": "code",
   "execution_count": 50,
   "metadata": {},
   "outputs": [],
   "source": [
    "name, is_lp, col_periods, row_periods = parse_time_file(f_tim);"
   ]
  },
  {
   "cell_type": "code",
   "execution_count": 51,
   "metadata": {},
   "outputs": [
    {
     "data": {
      "text/plain": [
       "(1:14, 15:88)"
      ]
     },
     "execution_count": 51,
     "metadata": {},
     "output_type": "execute_result"
    }
   ],
   "source": [
    "# Extract indices of first/second period rows/columns\n",
    "col1, col2 = (\n",
    "    col2idx[col_periods[1]]:(col2idx[col_periods[2]]-1),  # First-period variables\n",
    "    col2idx[col_periods[2]]:d[\"ncols\"]  # Second-period variables\n",
    ")\n",
    "row1, row2 = (\n",
    "    row2idx[row_periods[1]]:(row2idx[row_periods[2]]-1),  # First-period rows\n",
    "    row2idx[row_periods[2]]:d[\"nrows\"]  # Second-period variables\n",
    ")"
   ]
  },
  {
   "cell_type": "code",
   "execution_count": 52,
   "metadata": {},
   "outputs": [
    {
     "data": {
      "text/plain": [
       "([50.0, 65.0, 45.0, 70.0, 60.0, 55.0, 50.0, 60.0, 55.0, 40.0  …  76.8, 57.6, 62.4, 67.2, 57.6, 38.4, 43.2, 57.6, 43.2, 62.4], [1.0, 1.0, 1.0, 1.0, 1.0, 1.0, 1.0, 1.0, 1.0, 1.0  …  0.0, 0.0, 0.0, 0.0, 0.0, 0.0, 0.0, 0.0, 0.0, 0.0])"
      ]
     },
     "execution_count": 52,
     "metadata": {},
     "output_type": "execute_result"
    }
   ],
   "source": [
    "# Extract vector of objective coefficients\n",
    "obj = sparsevec(objI, objV, d[\"ncols\"])\n",
    "c, q = Vector(obj[col1]), Vector(obj[col2])"
   ]
  },
  {
   "cell_type": "code",
   "execution_count": 53,
   "metadata": {},
   "outputs": [
    {
     "data": {
      "text/plain": [
       "([25.0, 25.0, 25.0, 25.0, 0.0, 0.0, 0.0, 0.0, 0.0, 0.0, 480.0, 240.0, 0.0, 0.0], [5.0, 8.0, 4.0, 4.5, 6.7, 4.2, 10.1, 8.3, 12.2, 3.2  …  0.0, 0.0, 0.0, 0.0, 0.0, 0.0, 0.0, 0.0, 0.0, 0.0])"
      ]
     },
     "execution_count": 53,
     "metadata": {},
     "output_type": "execute_result"
    }
   ],
   "source": [
    "# Extract right-hand side vectors\n",
    "rhs = sparsevec(rhsI, rhsV, d[\"nrows\"])\n",
    "b, h = Vector(rhs[row1]), Vector(rhs[row2])"
   ]
  },
  {
   "cell_type": "code",
   "execution_count": 54,
   "metadata": {},
   "outputs": [],
   "source": [
    "# Extract constraint matrices\n",
    "A_ = sparse(I, J, V);\n",
    "\n",
    "A = A_[row1, col1]\n",
    "T = A_[row2, col1]\n",
    "W = A_[row2, col2];"
   ]
  },
  {
   "cell_type": "markdown",
   "metadata": {},
   "source": [
    "## Parse `.sto` file"
   ]
  },
  {
   "cell_type": "code",
   "execution_count": 55,
   "metadata": {},
   "outputs": [],
   "source": [
    "name, indeps, blocks = parse_sto_file(f_sto);"
   ]
  },
  {
   "cell_type": "code",
   "execution_count": 56,
   "metadata": {},
   "outputs": [
    {
     "data": {
      "text/plain": [
       "1024"
      ]
     },
     "execution_count": 56,
     "metadata": {},
     "output_type": "execute_result"
    }
   ],
   "source": [
    "# Extract each scenario from .sto data\n",
    "S_ = Base.Iterators.product(values(indeps)..., values(blocks)...)\n",
    "S = [prod(collect(s)) for s in S_]\n",
    "length(S)"
   ]
  },
  {
   "cell_type": "markdown",
   "metadata": {},
   "source": [
    "# Construct deterministic equivalent problem"
   ]
  },
  {
   "cell_type": "code",
   "execution_count": 57,
   "metadata": {},
   "outputs": [],
   "source": [
    "pb_data = [generate_scenario_data(A, T, W, q, h, row2idx, col2idx, s.p, s.values) for s in S][:];"
   ]
  },
  {
   "cell_type": "code",
   "execution_count": 58,
   "metadata": {},
   "outputs": [],
   "source": [
    "T_ = [x[1] for x in pb_data];\n",
    "W_ = [x[2] for x in pb_data];\n",
    "q_ = [x[3] for x in pb_data];\n",
    "h_ = [x[4] for x in pb_data];"
   ]
  },
  {
   "cell_type": "code",
   "execution_count": 59,
   "metadata": {},
   "outputs": [
    {
     "data": {
      "text/plain": [
       "1024"
      ]
     },
     "execution_count": 59,
     "metadata": {},
     "output_type": "execute_result"
    }
   ],
   "source": [
    "m1, n1 = size(A)\n",
    "m2, n2 = size(W)\n",
    "R = length(S)"
   ]
  },
  {
   "cell_type": "code",
   "execution_count": 60,
   "metadata": {},
   "outputs": [
    {
     "name": "stdout",
     "output_type": "stream",
     "text": [
      "  4.071030 seconds (115.68 k allocations: 4.372 GiB, 13.49% gc time)\n",
      " 19.749797 seconds (389.43 M allocations: 5.818 GiB, 3.25% gc time)\n"
     ]
    }
   ],
   "source": [
    "@time U = [\n",
    "    hcat(\n",
    "        T_[r],\n",
    "        spzeros(m2, n2*(r-1)),\n",
    "        W_[r],\n",
    "        spzeros(m2, n2*(R-r))\n",
    "    )\n",
    "    for r in 1:R\n",
    "];\n",
    "\n",
    "@time vU = vcat(U...);"
   ]
  },
  {
   "cell_type": "code",
   "execution_count": 61,
   "metadata": {},
   "outputs": [],
   "source": [
    "rhs_ = vcat(b, h_...)\n",
    "obj_ = vcat(c, q_...)\n",
    "senses_ = vcat(senses[1:m1], repeat(senses[(m1+1):end], R))\n",
    "n_ = length(obj_)\n",
    "m_ = length(rhs_)\n",
    "A_ = vcat(\n",
    "    hcat(A,spzeros(m1, n2*R)),\n",
    "    vU\n",
    ");\n",
    "\n",
    "rhs_l = rhs_ .- Inf .* (senses_ .== \"L\");\n",
    "rhs_u = rhs_ .+ Inf .* (senses_ .== \"G\");"
   ]
  },
  {
   "cell_type": "code",
   "execution_count": 65,
   "metadata": {},
   "outputs": [
    {
     "data": {
      "text/plain": [
       "((75790, 190516), 479520)"
      ]
     },
     "execution_count": 65,
     "metadata": {},
     "output_type": "execute_result"
    }
   ],
   "source": [
    "size(A_), nnz(A_)"
   ]
  },
  {
   "cell_type": "code",
   "execution_count": 69,
   "metadata": {},
   "outputs": [
    {
     "name": "stdout",
     "output_type": "stream",
     "text": [
      "MOSEK warning 710: #1 (nearly) zero elements are specified in sparse col '' (1) of matrix 'A'.\n",
      "MOSEK warning 710: #1 (nearly) zero elements are specified in sparse col '' (2) of matrix 'A'.\n",
      "MOSEK warning 710: #1 (nearly) zero elements are specified in sparse col '' (4) of matrix 'A'.\n",
      "MOSEK warning 710: #1 (nearly) zero elements are specified in sparse col '' (5) of matrix 'A'.\n",
      "MOSEK warning 710: #1 (nearly) zero elements are specified in sparse col '' (7) of matrix 'A'.\n",
      "MOSEK warning 710: #1 (nearly) zero elements are specified in sparse col '' (8) of matrix 'A'.\n",
      "MOSEK warning 710: #1 (nearly) zero elements are specified in sparse col '' (10) of matrix 'A'.\n",
      "MOSEK warning 710: #1 (nearly) zero elements are specified in sparse col '' (12) of matrix 'A'.\n",
      "MOSEK warning 710: #1 (nearly) zero elements are specified in sparse col '' (14) of matrix 'A'.\n",
      "MOSEK warning 710: #1 (nearly) zero elements are specified in sparse col '' (15) of matrix 'A'.\n",
      "Warning number 710 is disabled.\n"
     ]
    }
   ],
   "source": [
    "airl = MPB.LinearQuadraticModel(solver)\n",
    "MPB.loadproblem!(airl, A_, zeros(n_), Inf*ones(n_), obj_, rhs_l, rhs_u, :Min);"
   ]
  },
  {
   "cell_type": "code",
   "execution_count": 70,
   "metadata": {},
   "outputs": [
    {
     "name": "stdout",
     "output_type": "stream",
     "text": [
      "Problem\n",
      "  Name                   :                 \n",
      "  Objective sense        : min             \n",
      "  Type                   : LO (linear optimization problem)\n",
      "  Constraints            : 75790           \n",
      "  Cones                  : 0               \n",
      "  Scalar variables       : 190516          \n",
      "  Matrix variables       : 0               \n",
      "  Integer variables      : 0               \n",
      "\n",
      "Optimizer started.\n",
      "Presolve started.\n",
      "Linear dependency checker started.\n",
      "Linear dependency checker terminated.\n",
      "Eliminator started.\n",
      "Freed constraints in eliminator : 4096\n",
      "Eliminator terminated.\n",
      "Eliminator - tries                  : 1                 time                   : 0.00            \n",
      "Lin. dep.  - tries                  : 1                 time                   : 0.02            \n",
      "Lin. dep.  - number                 : 0               \n",
      "Presolve terminated. Time: 0.26    \n",
      "Problem\n",
      "  Name                   :                 \n",
      "  Objective sense        : min             \n",
      "  Type                   : LO (linear optimization problem)\n",
      "  Constraints            : 75790           \n",
      "  Cones                  : 0               \n",
      "  Scalar variables       : 190516          \n",
      "  Matrix variables       : 0               \n",
      "  Integer variables      : 0               \n",
      "\n",
      "Optimizer  - threads                : 1               \n",
      "Optimizer  - solved problem         : the primal      \n",
      "Optimizer  - Constraints            : 71692\n",
      "Optimizer  - Cones                  : 0\n",
      "Optimizer  - Scalar variables       : 198714            conic                  : 0               \n",
      "Optimizer  - Semi-definite variables: 0                 scalarized             : 0               \n",
      "Factor     - setup time             : 0.29              dense det. time        : 0.00            \n",
      "Factor     - ML order time          : 0.05              GP order time          : 0.00            \n",
      "Factor     - nonzeros before factor : 4.08e+05          after factor           : 1.45e+06        \n",
      "Factor     - dense dim.             : 52                flops                  : 6.37e+07        \n",
      "ITE PFEAS    DFEAS    GFEAS    PRSTATUS   POBJ              DOBJ              MU       TIME  \n",
      "0   1.0e+01  7.9e+00  2.1e+03  1.00e+00   1.865360000e+04   0.000000000e+00   1.0e+00  0.71  \n",
      "1   5.9e+02  1.1e+02  6.1e+03  0.00e+00   2.085935698e+04   1.230977818e+04   1.1e+01  0.85  \n",
      "2   5.8e+02  1.1e+02  5.9e+03  9.55e-01   2.036314774e+04   1.205841007e+04   1.0e+01  0.99  \n",
      "3   5.6e+02  1.1e+02  5.8e+03  9.41e-01   1.987187121e+04   1.180772147e+04   1.0e+01  1.11  \n",
      "4   5.5e+02  1.1e+02  5.7e+03  1.13e+00   1.962646693e+04   1.168437172e+04   9.8e+00  1.26  \n",
      "5   5.1e+02  9.9e+01  5.3e+03  1.16e+00   1.812274607e+04   1.077213890e+04   9.1e+00  1.39  \n",
      "6   5.0e+02  9.7e+01  5.2e+03  1.08e+00   1.777513470e+04   1.057680164e+04   9.0e+00  1.52  \n",
      "7   4.7e+02  9.1e+01  4.8e+03  1.10e+00   1.640440604e+04   9.781766374e+03   8.4e+00  1.69  \n",
      "8   3.7e+02  7.1e+01  3.8e+03  1.06e+00   1.276108548e+04   7.676479928e+03   6.6e+00  1.85  \n",
      "9   3.1e+02  5.9e+01  3.1e+03  1.11e+00   1.055051409e+04   6.390879974e+03   5.4e+00  1.98  \n",
      "10  2.2e+02  4.3e+01  2.3e+03  1.10e+00   7.741020180e+03   4.785098487e+03   3.9e+00  2.12  \n",
      "11  1.5e+02  3.0e+01  1.6e+03  1.09e+00   5.641332739e+03   3.617794446e+03   2.7e+00  2.30  \n",
      "12  1.2e+02  2.3e+01  1.2e+03  1.07e+00   4.613715977e+03   3.059843900e+03   2.1e+00  2.52  \n",
      "13  6.6e+01  1.3e+01  6.8e+02  1.05e+00   3.094884330e+03   2.219498002e+03   1.2e+00  2.76  \n",
      "14  2.5e+01  4.8e+00  2.6e+02  1.01e+00   1.731925612e+03   1.403635068e+03   4.4e-01  2.91  \n",
      "15  1.3e+01  2.6e+00  1.4e+02  1.06e+00   1.257851103e+03   1.084756890e+03   2.4e-01  3.10  \n",
      "16  1.1e+01  2.1e+00  1.1e+02  1.08e+00   1.136509053e+03   9.932844437e+02   2.0e-01  3.30  \n",
      "17  1.0e+01  1.9e+00  1.0e+02  1.08e+00   1.058735726e+03   9.303445446e+02   1.8e-01  3.47  \n",
      "18  9.6e+00  1.9e+00  9.9e+01  1.08e+00   1.031930166e+03   9.083405885e+02   1.7e-01  3.59  \n",
      "19  9.4e+00  1.8e+00  9.7e+01  1.08e+00   1.015558590e+03   8.951450596e+02   1.7e-01  3.74  \n",
      "20  7.0e+00  1.3e+00  7.2e+01  1.08e+00   9.073763925e+02   8.182609429e+02   1.2e-01  3.90  \n",
      "21  1.3e+00  2.4e-01  1.3e+01  1.08e+00   6.031381454e+02   5.879886703e+02   2.3e-02  4.04  \n",
      "22  2.8e-01  4.8e-02  6.6e+00  1.13e+00   4.686825471e+02   4.615031508e+02   4.6e-03  4.19  \n",
      "23  6.4e-02  1.3e-02  6.5e-01  1.06e+00   4.429791418e+02   4.422953160e+02   1.2e-03  4.33  \n",
      "24  1.9e-02  3.7e-03  1.9e-01  1.02e+00   4.369854427e+02   4.367852547e+02   3.4e-04  4.49  \n",
      "25  2.2e-03  4.4e-04  2.3e-02  1.01e+00   4.345166902e+02   4.344930764e+02   4.1e-05  4.65  \n",
      "26  9.5e-05  1.9e-05  9.6e-04  1.00e+00   4.341316055e+02   4.341306072e+02   1.7e-06  4.80  \n",
      "27  1.4e-08  2.7e-09  1.1e-07  1.00e+00   4.341125029e+02   4.341125028e+02   2.5e-10  4.94  \n",
      "Basis identification started.\n",
      "Basis identification terminated. Time: 1.78\n",
      "Optimizer terminated. Time: 6.78    \n",
      "\n",
      "\n",
      "Interior-point solution summary\n",
      "  Problem status  : PRIMAL_AND_DUAL_FEASIBLE\n",
      "  Solution status : OPTIMAL\n",
      "  Primal.  obj: 4.3411250287e+02    nrm: 7e+01    Viol.  con: 3e-08    var: 0e+00  \n",
      "  Dual.    obj: 4.3411250275e+02    nrm: 3e+01    Viol.  con: 0e+00    var: 3e-09  \n",
      "\n",
      "Basic solution summary\n",
      "  Problem status  : PRIMAL_AND_DUAL_FEASIBLE\n",
      "  Solution status : OPTIMAL\n",
      "  Primal.  obj: 4.3411250000e+02    nrm: 7e+01    Viol.  con: 9e-14    var: 4e-15  \n",
      "  Dual.    obj: 4.3411250275e+02    nrm: 3e+01    Viol.  con: 0e+00    var: 5e-08  \n"
     ]
    }
   ],
   "source": [
    "MPB.optimize!(airl)"
   ]
  },
  {
   "cell_type": "code",
   "execution_count": 71,
   "metadata": {},
   "outputs": [
    {
     "data": {
      "text/plain": [
       "434.11250000000007"
      ]
     },
     "execution_count": 71,
     "metadata": {},
     "output_type": "execute_result"
    }
   ],
   "source": [
    "MPB.getobjval(airl)"
   ]
  },
  {
   "cell_type": "markdown",
   "metadata": {},
   "source": [
    "# Column-generation formulation"
   ]
  },
  {
   "cell_type": "code",
   "execution_count": 72,
   "metadata": {},
   "outputs": [],
   "source": [
    "import Linda"
   ]
  },
  {
   "cell_type": "markdown",
   "metadata": {},
   "source": [
    "## Create oracles"
   ]
  },
  {
   "cell_type": "code",
   "execution_count": 74,
   "metadata": {},
   "outputs": [
    {
     "ename": "MethodError",
     "evalue": "MethodError: no method matching Linda.Oracle.LindaOraclePool()\nClosest candidates are:\n  Linda.Oracle.LindaOraclePool(!Matched::Any) at /mnt/c/Users/mathi/GitHub/Linda.jl/src/Oracle/oracle_pool.jl:23",
     "output_type": "error",
     "traceback": [
      "MethodError: no method matching Linda.Oracle.LindaOraclePool()\nClosest candidates are:\n  Linda.Oracle.LindaOraclePool(!Matched::Any) at /mnt/c/Users/mathi/GitHub/Linda.jl/src/Oracle/oracle_pool.jl:23",
      "",
      "Stacktrace:",
      " [1] top-level scope at In[74]:1"
     ]
    }
   ],
   "source": [
    "pool = Linda.Oracle.LindaOraclePool()"
   ]
  },
  {
   "cell_type": "code",
   "execution_count": null,
   "metadata": {},
   "outputs": [],
   "source": [
    "rowlb = q_[1] .- Inf .* (senses_ .== \"L\");\n",
    "rowub = q_[1] .+ Inf .* (senses_ .== \"G\");\n",
    "Linda.Oracle.LindaOracleMIP(\n",
    "    1,\n",
    "    h_[1], T_[1]', W_[1]',\n",
    "    rowlb, rowub,\n",
    "    \n",
    ")"
   ]
  },
  {
   "cell_type": "code",
   "execution_count": 95,
   "metadata": {},
   "outputs": [
    {
     "data": {
      "text/plain": [
       "(52, 14)"
      ]
     },
     "execution_count": 95,
     "metadata": {},
     "output_type": "execute_result"
    }
   ],
   "source": [
    "size(A')"
   ]
  }
 ],
 "metadata": {
  "kernelspec": {
   "display_name": "Julia 1.0.2",
   "language": "julia",
   "name": "julia-1.0"
  },
  "language_info": {
   "file_extension": ".jl",
   "mimetype": "application/julia",
   "name": "julia",
   "version": "1.0.2"
  }
 },
 "nbformat": 4,
 "nbformat_minor": 2
}
