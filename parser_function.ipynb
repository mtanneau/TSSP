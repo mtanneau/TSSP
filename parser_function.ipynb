{
 "cells": [
  {
   "cell_type": "code",
   "execution_count": 1,
   "metadata": {
    "collapsed": true
   },
   "outputs": [],
   "source": [
    "using LinearAlgebra\n",
    "using SparseArrays\n",
    "using Printf"
   ]
  },
  {
   "cell_type": "code",
   "execution_count": 2,
   "metadata": {},
   "outputs": [],
   "source": [
    "import MathProgBase\n",
    "MPB = MathProgBase\n",
    "\n",
    "import Mosek\n",
    "import Mosek:MosekSolver\n",
    "\n",
    "MPB.getbarrieriter(m::Mosek.MosekMathProgSolverInterface.MosekLinearQuadraticModel) = Mosek.getintinf(m.task, Mosek.MSK_IINF_INTPNT_ITER)\n",
    "MPB.getsimplexiter(m::Mosek.MosekMathProgSolverInterface.MosekLinearQuadraticModel) = Mosek.getintinf(m.task,Mosek.MSK_IINF_SIM_PRIMAL_ITER)+Mosek.getintinf(m.task,Mosek.MSK_IINF_SIM_DUAL_ITER)"
   ]
  },
  {
   "cell_type": "code",
   "execution_count": 3,
   "metadata": {
    "collapsed": true
   },
   "outputs": [],
   "source": [
    "solver = MosekSolver(MSK_IPAR_LOG=0);"
   ]
  },
  {
   "cell_type": "code",
   "execution_count": 4,
   "metadata": {},
   "outputs": [
    {
     "name": "stderr",
     "output_type": "stream",
     "text": [
      "┌ Info: Recompiling stale cache file /home/mathieu/.julia/compiled/v1.0/Linda/hN7lX.ji for Linda [4f5ebc0c-70dc-5a88-8eac-7b9fb65244d9]\n",
      "└ @ Base loading.jl:1187\n"
     ]
    }
   ],
   "source": [
    "import Linda"
   ]
  },
  {
   "cell_type": "markdown",
   "metadata": {},
   "source": [
    "# TSSP formulation"
   ]
  },
  {
   "cell_type": "markdown",
   "metadata": {},
   "source": [
    "Deterministic equivalent:\n",
    "\n",
    "\\begin{align*}\n",
    "    (DEP) \\ \\ \\ \\min_{x, y} \\ \\ \\ & c^{T}x + \\sum_{i} p_{i} q_{i}^{T} y_{i}\\\\\n",
    "    s.t. \\ \\ \\ \n",
    "    & Ax = b,\\\\\n",
    "    & T_{i} x + W_{i}y_{i} = h_{i}, \\ \\ \\ \\forall i,\\\\\n",
    "    & x \\geq 0,\\\\\n",
    "    & y_{i} \\geq 0, \\ \\ \\ \\forall i.\n",
    "\\end{align*}"
   ]
  },
  {
   "cell_type": "markdown",
   "metadata": {},
   "source": [
    "Dual of (DEP) writes:\n",
    "\\begin{align*}\n",
    "    (D) \\ \\ \\ \\max_{\\eta, \\theta} \\ \\ \\ & b^{T}\\eta + \\sum_{i} h_{i}^{T} \\theta_{i}\\\\\n",
    "    s.t. \\ \\ \\ \n",
    "    & A^{T} \\eta + \\sum_{i} T_{i}^{T} \\theta_{i} \\leq c,\\\\\n",
    "    & W_{i}^{T} \\theta_{i} \\leq p_{i} q_{i}, \\ \\ \\ \\forall i.\n",
    "\\end{align*}"
   ]
  },
  {
   "cell_type": "markdown",
   "metadata": {},
   "source": [
    "We wolve (D) by column generation. Note that it amounts to the same as solving (DEP) by Benders.\n",
    "\n",
    "The Master problem writes\n",
    "\\begin{align*}\n",
    "    (D) \\ \\ \\ \\min_{\\eta, \\theta} \\ \\ \\ & -b^{T}\\eta - \\sum_{i, \\omega} h_{i, \\omega} \\lambda_{i, \\omega} - \\sum_{i, \\rho} h_{i, \\rho} \\lambda_{i, \\rho}\\\\\n",
    "    s.t. \\ \\ \\ \n",
    "    & A^{T} \\eta + \\sum_{i, \\omega} t_{i, \\omega} \\lambda_{i, \\omega} + \\sum_{i, \\rho} t_{i, \\rho} \\lambda_{i, \\rho} \\leq c, & [\\pi]\\\\\n",
    "    & \\sum_{i} \\lambda_{i, \\omega} = 1, \\ \\ \\ \\forall i, & [\\sigma_{i}]\\\\\n",
    "    & \\lambda \\geq 0.\n",
    "\\end{align*}\n",
    "\n",
    "and the sub-problem writes:\n",
    "\\begin{align*}\n",
    "    (SP) \\ \\ \\ \\min_{\\theta_{i}} \\ \\ \\ & (-h_{i}^{T} - \\pi^{T} T_{i}^{T}) \\theta_{i} - \\sigma_{i}\\\\\n",
    "    s.t. \\ \\ \\ \n",
    "    & W_{i}^{T} \\theta_{i} \\leq p_{i} q_{i}.\n",
    "\\end{align*}"
   ]
  },
  {
   "cell_type": "markdown",
   "metadata": {},
   "source": [
    "# Source code"
   ]
  },
  {
   "cell_type": "code",
   "execution_count": 5,
   "metadata": {},
   "outputs": [
    {
     "data": {
      "text/plain": [
       "parse_block_line! (generic function with 1 method)"
      ]
     },
     "execution_count": 5,
     "metadata": {},
     "output_type": "execute_result"
    }
   ],
   "source": [
    "include(\"src/TSSP/parser/core_parser.jl\")\n",
    "include(\"src/TSSP/parser/time_parser.jl\")\n",
    "include(\"src/TSSP/parser/stoch_parser.jl\")"
   ]
  },
  {
   "cell_type": "code",
   "execution_count": 6,
   "metadata": {},
   "outputs": [
    {
     "data": {
      "text/plain": [
       "generate_scenario_data (generic function with 1 method)"
      ]
     },
     "execution_count": 6,
     "metadata": {},
     "output_type": "execute_result"
    }
   ],
   "source": [
    "function generate_scenario_data(\n",
    "        A_ref, T_ref, W_ref, q_ref, h_ref,\n",
    "        row2idx, col2idx, \n",
    "        prob, coeffs\n",
    ")\n",
    "    m1, n1 = size(A_ref)\n",
    "    m2, n2 = size(W_ref)\n",
    "    m2 == size(T_ref, 1) || error(\"T and W has different number of rows.\")\n",
    "    n1 == size(T_ref, 2) || error(\"T and A has different number of columns.\")\n",
    "    \n",
    "    # Create problem data\n",
    "    h_ = copy(h_ref)          # Right-hand side\n",
    "    q_ = copy(q_ref)  # Objective ()\n",
    "    \n",
    "    T_ = copy(T_ref)          # T_r matrix\n",
    "    W_ = copy(W_ref)          # W_r\n",
    "    \n",
    "    \n",
    "    for (k, v) in coeffs\n",
    "        row::Int = row2idx[k[1]]\n",
    "        col::Int = col2idx[k[2]]\n",
    "        \n",
    "        row == 0 || row > m1 || error(\"Entry given for first-stage row $(k[1])\")\n",
    "        \n",
    "        # Check four cases\n",
    "        if row == 0 && col > 0\n",
    "            # Objective coefficient\n",
    "#             println(\"Obj: $k: $v\")\n",
    "            q_[col - n1] = v\n",
    "            \n",
    "        elseif row > 0 && col == 0\n",
    "            # Right-hand side\n",
    "#             println(\"Rhs: $k \\t $v\")\n",
    "            h_[row - m1] = v\n",
    "            \n",
    "        elseif row > 0 && col > 0\n",
    "            # Check whether belongs to T or W\n",
    "            if col <= n1\n",
    "                T_[row - m1, col] = v\n",
    "            else\n",
    "                W_[row - m1, col - n1] = v\n",
    "            end\n",
    "        else\n",
    "            eror(\"Wrong combination of row/col indices: $k\")\n",
    "        end\n",
    "    end\n",
    "    \n",
    "    q_ .*= prob\n",
    "    \n",
    "    return T_, W_, q_, h_\n",
    "end"
   ]
  },
  {
   "cell_type": "markdown",
   "metadata": {},
   "source": [
    "# Test instance files"
   ]
  },
  {
   "cell_type": "code",
   "execution_count": 64,
   "metadata": {},
   "outputs": [
    {
     "data": {
      "text/plain": [
       "\"data/tssp/4node.tim\""
      ]
     },
     "execution_count": 64,
     "metadata": {},
     "output_type": "execute_result"
    }
   ],
   "source": [
    "f_cor = \"data/tssp/4node.cor\"\n",
    "f_sto = \"data/tssp/4node.sto.1024\"\n",
    "f_tim = \"data/tssp/4node.tim\""
   ]
  },
  {
   "cell_type": "markdown",
   "metadata": {},
   "source": [
    "# Parse test instance"
   ]
  },
  {
   "cell_type": "markdown",
   "metadata": {},
   "source": [
    "## Parse `.cor` file"
   ]
  },
  {
   "cell_type": "code",
   "execution_count": 65,
   "metadata": {},
   "outputs": [],
   "source": [
    "# Extract data from .cor file\n",
    "d, row2idx, col2idx, I, J, V, objI, objV, rhsI, rhsV, senses = parse_cor_file(f_cor);"
   ]
  },
  {
   "cell_type": "markdown",
   "metadata": {},
   "source": [
    "## Parse `.tim` file"
   ]
  },
  {
   "cell_type": "code",
   "execution_count": 66,
   "metadata": {
    "collapsed": true
   },
   "outputs": [],
   "source": [
    "name, is_lp, col_periods, row_periods = parse_time_file(f_tim);"
   ]
  },
  {
   "cell_type": "code",
   "execution_count": 67,
   "metadata": {},
   "outputs": [],
   "source": [
    "# Extract indices of first/second period rows/columns\n",
    "col1, col2 = (\n",
    "    col2idx[col_periods[1]]:(col2idx[col_periods[2]]-1),  # First-period variables\n",
    "    col2idx[col_periods[2]]:d[\"ncols\"]  # Second-period variables\n",
    ")\n",
    "row1, row2 = (\n",
    "    row2idx[row_periods[1]]:(row2idx[row_periods[2]]-1),  # First-period rows\n",
    "    row2idx[row_periods[2]]:d[\"nrows\"]  # Second-period variables\n",
    ")\n",
    "\n",
    "if row1[1] == 0\n",
    "    row1 = 1:row1[end]\n",
    "end\n",
    "if col1[1] == 0\n",
    "    col1 = 1:col1[end]\n",
    "end"
   ]
  },
  {
   "cell_type": "code",
   "execution_count": 68,
   "metadata": {},
   "outputs": [
    {
     "data": {
      "text/plain": [
       "([50.0, 65.0, 45.0, 70.0, 60.0, 55.0, 50.0, 60.0, 55.0, 40.0  …  76.8, 57.6, 62.4, 67.2, 57.6, 38.4, 43.2, 57.6, 43.2, 62.4], [1.0, 1.0, 1.0, 1.0, 1.0, 1.0, 1.0, 1.0, 1.0, 1.0  …  0.0, 0.0, 0.0, 0.0, 0.0, 0.0, 0.0, 0.0, 0.0, 0.0])"
      ]
     },
     "execution_count": 68,
     "metadata": {},
     "output_type": "execute_result"
    }
   ],
   "source": [
    "# Extract vector of objective coefficients\n",
    "obj = sparsevec(objI, objV, d[\"ncols\"])\n",
    "c, q = Vector(obj[col1]), Vector(obj[col2])"
   ]
  },
  {
   "cell_type": "code",
   "execution_count": 69,
   "metadata": {},
   "outputs": [
    {
     "data": {
      "text/plain": [
       "([25.0, 25.0, 25.0, 25.0, 0.0, 0.0, 0.0, 0.0, 0.0, 0.0, 480.0, 240.0, 0.0, 0.0], [5.0, 8.0, 4.0, 4.5, 6.7, 4.2, 10.1, 8.3, 12.2, 3.2  …  0.0, 0.0, 0.0, 0.0, 0.0, 0.0, 0.0, 0.0, 0.0, 0.0])"
      ]
     },
     "execution_count": 69,
     "metadata": {},
     "output_type": "execute_result"
    }
   ],
   "source": [
    "# Extract right-hand side vectors\n",
    "rhs = sparsevec(rhsI, rhsV, d[\"nrows\"])\n",
    "b, h = Vector(rhs[row1]), Vector(rhs[row2])"
   ]
  },
  {
   "cell_type": "code",
   "execution_count": 70,
   "metadata": {},
   "outputs": [],
   "source": [
    "# Extract constraint matrices\n",
    "A_ = sparse(I, J, V);\n",
    "\n",
    "A = A_[row1, col1]\n",
    "T = A_[row2, col1]\n",
    "W = A_[row2, col2];"
   ]
  },
  {
   "cell_type": "markdown",
   "metadata": {},
   "source": [
    "### Convert `A` to standard form"
   ]
  },
  {
   "cell_type": "code",
   "execution_count": 71,
   "metadata": {},
   "outputs": [
    {
     "name": "stdout",
     "output_type": "stream",
     "text": [
      "n_ctr = 8\n"
     ]
    }
   ],
   "source": [
    "n_ctr = sum(senses[row1] .!= \"E\")  # Number of slack variables to be added\n",
    "println(\"n_ctr = $n_ctr\")\n",
    "m1 = length(row1)\n",
    "m2 = length(row2)\n",
    "\n",
    "n1 = length(col1)\n",
    "n2 = length(col2)\n",
    "\n",
    "S_mat = sparse(\n",
    "    [i for i in 1:m1 if senses[i] != \"E\"],\n",
    "    collect(1:n_ctr),\n",
    "    [senses[i] == \"L\" ? 1.0 : -1.0 for i in 1:m1 if senses[i] != \"E\"],\n",
    "    m1, n_ctr\n",
    ");"
   ]
  },
  {
   "cell_type": "code",
   "execution_count": 72,
   "metadata": {},
   "outputs": [
    {
     "data": {
      "text/plain": [
       "1:22"
      ]
     },
     "execution_count": 72,
     "metadata": {},
     "output_type": "execute_result"
    }
   ],
   "source": [
    "# Add slack coefficients to matrix\n",
    "A = hcat(A, S_mat);\n",
    "T = hcat(T, spzeros(m2, n_ctr))\n",
    "\n",
    "# Add zero coeffs to objective vector\n",
    "append!(c, zeros(n_ctr))\n",
    "\n",
    "# Shift all second-stage variables to account for first-stage slack\n",
    "for (k, v) in col2idx\n",
    "    if v > n1\n",
    "        col2idx[k] += n_ctr\n",
    "    end\n",
    "end\n",
    "col1 = col1[1]:(m1+n_ctr)"
   ]
  },
  {
   "cell_type": "code",
   "execution_count": 73,
   "metadata": {
    "collapsed": true
   },
   "outputs": [],
   "source": [
    "senses[row1] .= \"E\";"
   ]
  },
  {
   "cell_type": "markdown",
   "metadata": {},
   "source": [
    "### Convert W to standard form"
   ]
  },
  {
   "cell_type": "code",
   "execution_count": 74,
   "metadata": {},
   "outputs": [],
   "source": [
    "# Number of non-equality constraints\n",
    "n_ctr = sum(senses[row2] .!= \"E\")  # number of slack variables to be added\n",
    "\n",
    "m2 = length(row2)\n",
    "m1 = length(row1)\n",
    "\n",
    "S_mat = sparse(\n",
    "    [i for i in 1:m2 if senses[m1+i] != \"E\"],\n",
    "    collect(1:n_ctr),\n",
    "    [senses[m1+i] == \"L\" ? 1.0 : -1.0 for i in 1:m2 if senses[m1+i] != \"E\"],\n",
    "    m2, n_ctr\n",
    ");"
   ]
  },
  {
   "cell_type": "code",
   "execution_count": 75,
   "metadata": {},
   "outputs": [],
   "source": [
    "# Add slack variables to W matrix\n",
    "W = hcat(W, S_mat)\n",
    "\n",
    "# Add slack variables to objective\n",
    "append!(q, zeros(n_ctr));"
   ]
  },
  {
   "cell_type": "code",
   "execution_count": 76,
   "metadata": {},
   "outputs": [],
   "source": [
    "senses[row2] .= \"E\";"
   ]
  },
  {
   "cell_type": "code",
   "execution_count": 77,
   "metadata": {},
   "outputs": [],
   "source": [
    "# row2 = (m1+1):(m1+m2+n_ctr)"
   ]
  },
  {
   "cell_type": "markdown",
   "metadata": {},
   "source": [
    "## Parse `.sto` file"
   ]
  },
  {
   "cell_type": "code",
   "execution_count": 78,
   "metadata": {
    "collapsed": true
   },
   "outputs": [],
   "source": [
    "name, indeps, blocks = parse_sto_file(f_sto);"
   ]
  },
  {
   "cell_type": "code",
   "execution_count": 79,
   "metadata": {},
   "outputs": [
    {
     "data": {
      "text/plain": [
       "1024"
      ]
     },
     "execution_count": 79,
     "metadata": {},
     "output_type": "execute_result"
    }
   ],
   "source": [
    "# Extract each scenario from .sto data\n",
    "S_ = Base.Iterators.product(values(indeps)..., values(blocks)...)\n",
    "S = [prod(collect(s)) for s in S_]\n",
    "length(S)"
   ]
  },
  {
   "cell_type": "markdown",
   "metadata": {},
   "source": [
    "# Construct deterministic equivalent problem"
   ]
  },
  {
   "cell_type": "code",
   "execution_count": 80,
   "metadata": {},
   "outputs": [
    {
     "name": "stdout",
     "output_type": "stream",
     "text": [
      "  0.200343 seconds (1.02 M allocations: 61.901 MiB, 10.82% gc time)\n"
     ]
    }
   ],
   "source": [
    "@time pb_data = [generate_scenario_data(A, T, W, q, h, row2idx, col2idx, s.p, s.values) for s in S][:];"
   ]
  },
  {
   "cell_type": "code",
   "execution_count": 81,
   "metadata": {
    "collapsed": true
   },
   "outputs": [],
   "source": [
    "T_ = [x[1] for x in pb_data];\n",
    "W_ = [x[2] for x in pb_data];\n",
    "q_ = [x[3] for x in pb_data];\n",
    "h_ = [x[4] for x in pb_data];"
   ]
  },
  {
   "cell_type": "code",
   "execution_count": 82,
   "metadata": {},
   "outputs": [
    {
     "data": {
      "text/plain": [
       "1024"
      ]
     },
     "execution_count": 82,
     "metadata": {},
     "output_type": "execute_result"
    }
   ],
   "source": [
    "m1, n1 = size(A)\n",
    "m2, n2 = size(W)\n",
    "R = length(S)"
   ]
  },
  {
   "cell_type": "code",
   "execution_count": 60,
   "metadata": {},
   "outputs": [
    {
     "name": "stdout",
     "output_type": "stream",
     "text": [
      "  0.089284 seconds (88.33 k allocations: 130.592 MiB, 22.83% gc time)\n",
      "  0.492280 seconds (10.50 M allocations: 169.217 MiB, 11.05% gc time)\n"
     ]
    }
   ],
   "source": [
    "@time U = [\n",
    "    hcat(\n",
    "        T_[r],\n",
    "        spzeros(m2, n2*(r-1)),\n",
    "        W_[r],\n",
    "        spzeros(m2, n2*(R-r))\n",
    "    )\n",
    "    for r in 1:R\n",
    "];\n",
    "\n",
    "\n",
    "@time vU = vcat(U...);"
   ]
  },
  {
   "cell_type": "code",
   "execution_count": 61,
   "metadata": {},
   "outputs": [
    {
     "name": "stdout",
     "output_type": "stream",
     "text": [
      "  0.000201 seconds (31 allocations: 551.516 KiB)\n"
     ]
    }
   ],
   "source": [
    "rhs_ = vcat(b, h_...)\n",
    "obj_ = vcat(c, q_...)\n",
    "senses_ = vcat(senses[1:m1], repeat(senses[(m1+1):end], R))\n",
    "n_ = length(obj_)\n",
    "m_ = length(rhs_)\n",
    "@time A_ = vcat(\n",
    "    hcat(A,spzeros(m1, n2*R)),\n",
    "    vU\n",
    ");\n",
    "\n",
    "rhs_l = rhs_ .- Inf .* (senses_ .== \"L\");\n",
    "rhs_u = rhs_ .+ Inf .* (senses_ .== \"G\");"
   ]
  },
  {
   "cell_type": "code",
   "execution_count": 62,
   "metadata": {},
   "outputs": [
    {
     "data": {
      "text/plain": [
       "((4058, 8118), 18934)"
      ]
     },
     "execution_count": 62,
     "metadata": {},
     "output_type": "execute_result"
    }
   ],
   "source": [
    "size(A_), nnz(A_)"
   ]
  },
  {
   "cell_type": "code",
   "execution_count": 63,
   "metadata": {},
   "outputs": [],
   "source": [
    "airl = MPB.LinearQuadraticModel(solver)\n",
    "MPB.loadproblem!(airl, A_, zeros(n_), Inf*ones(n_), obj_, rhs_l, rhs_u, :Min);"
   ]
  },
  {
   "cell_type": "code",
   "execution_count": 64,
   "metadata": {},
   "outputs": [],
   "source": [
    "MPB.optimize!(airl)"
   ]
  },
  {
   "cell_type": "code",
   "execution_count": 65,
   "metadata": {},
   "outputs": [
    {
     "data": {
      "text/plain": [
       "250262.04979946063"
      ]
     },
     "execution_count": 65,
     "metadata": {},
     "output_type": "execute_result"
    }
   ],
   "source": [
    "MPB.getobjval(airl)"
   ]
  },
  {
   "cell_type": "markdown",
   "metadata": {},
   "source": [
    "# Column-generation formulation"
   ]
  },
  {
   "cell_type": "markdown",
   "metadata": {},
   "source": [
    "## Create oracles"
   ]
  },
  {
   "cell_type": "code",
   "execution_count": 98,
   "metadata": {},
   "outputs": [],
   "source": [
    "# Instanciate sub-problems\n",
    "pool = Linda.Oracle.LindaOraclePool([\n",
    "    Linda.Oracle.LindaOracleMIP(\n",
    "        r,\n",
    "        -h_[r],\n",
    "        transpose(T_[r]),\n",
    "        transpose(W_[r]),\n",
    "        -Inf*ones(length(q_[r])), q_[r],  # right-hand side\n",
    "        fill(:Cont, length(h_[r])),\n",
    "        -Inf*ones(length(h_[r])),\n",
    "        Inf*ones(length(h_[r])),\n",
    "        solver\n",
    "    )\n",
    "    for r in 1:R\n",
    "]);"
   ]
  },
  {
   "cell_type": "code",
   "execution_count": 99,
   "metadata": {},
   "outputs": [
    {
     "name": "stdout",
     "output_type": "stream",
     "text": [
      "  0.000759 seconds (4.62 k allocations: 696.453 KiB)\n"
     ]
    }
   ],
   "source": [
    "# Create initial columns by computing minimum cost schedule for each house\n",
    "initial_cols = Linda.Column[]\n",
    "\n",
    "@time for o in pool.oracles\n",
    "#     Linda.Oracle.query!(o, zeros(size(T, 2)), Inf)\n",
    "#     col = Linda.Oracle.get_new_columns(o)[1]\n",
    "    col = Linda.Column(1e3, zeros(size(T, 2)), true, o.index)\n",
    "    push!(initial_cols, col)\n",
    "end\n",
    ";"
   ]
  },
  {
   "cell_type": "markdown",
   "metadata": {},
   "source": [
    "### Create Master"
   ]
  },
  {
   "cell_type": "code",
   "execution_count": 100,
   "metadata": {},
   "outputs": [
    {
     "data": {
      "text/plain": [
       "generate_rmp (generic function with 1 method)"
      ]
     },
     "execution_count": 100,
     "metadata": {},
     "output_type": "execute_result"
    }
   ],
   "source": [
    "function generate_rmp(A, R, rowlb, rowub, obj, columns, rmp_solver)\n",
    "    \n",
    "    rmp = MPB.LinearQuadraticModel(rmp_solver)\n",
    "    \n",
    "    A0 = vcat(\n",
    "        spzeros(R, 2*size(A, 2)+size(A, 1)),\n",
    "        hcat(A, -A, sparse(1:size(A, 1), 1:size(A, 1), ones(size(A, 1))))\n",
    "    )\n",
    "    A_ = hcat(\n",
    "        A0,\n",
    "        vcat(\n",
    "            hcat([sparsevec([c.idx_subproblem], [1.0], R) for c in columns]...),\n",
    "            hcat([c.col for c in columns]...)\n",
    "        )\n",
    "    )\n",
    "    \n",
    "    obj_ = vcat(obj, -obj, zeros(size(A, 1)), vcat([col.cost for col in columns]...))\n",
    "    \n",
    "    rowlb_ = vcat(ones(R), rowlb)\n",
    "    rowub_ = vcat(ones(R), rowub)\n",
    "    \n",
    "#     display([rowlb_ rowub_])\n",
    "    \n",
    "    collb_ = zeros(2*length(obj) + size(A, 1) + length(columns))\n",
    "    colub_ = Inf .* ones(2*length(obj) + size(A, 1) + length(columns))\n",
    "    \n",
    "#     println(size(A_))\n",
    "#     println(length(collb_), \"\\t\", length(colub_))\n",
    "    \n",
    "    MPB.loadproblem!(rmp, A_, collb_, colub_, obj_, rowlb_, rowub_, :Min)\n",
    "    \n",
    "    return rmp\n",
    "end"
   ]
  },
  {
   "cell_type": "code",
   "execution_count": 101,
   "metadata": {},
   "outputs": [],
   "source": [
    "rmp = generate_rmp(transpose(A), R, c, c, -b, initial_cols, \n",
    "    MosekSolver(\n",
    "        MSK_IPAR_PRESOLVE_USE=0,\n",
    "        MSK_IPAR_LOG=0, \n",
    "#         SK_IPAR_OPTIMIZER=3\n",
    "    )\n",
    ")\n",
    "\n",
    "mp = Linda.LindaMaster(R, length(c), c, 2*size(A, 1)+size(A, 2), initial_cols, rmp);"
   ]
  },
  {
   "cell_type": "code",
   "execution_count": 102,
   "metadata": {},
   "outputs": [
    {
     "data": {
      "text/plain": [
       "103"
      ]
     },
     "execution_count": 102,
     "metadata": {},
     "output_type": "execute_result"
    }
   ],
   "source": [
    "env = Linda.LindaEnv();\n",
    "env[:verbose] = 1\n",
    "env[:num_cgiter_max] = 100\n",
    "env[:num_columns_max] = 1+div(R, 10)"
   ]
  },
  {
   "cell_type": "markdown",
   "metadata": {},
   "source": [
    "### Solve"
   ]
  },
  {
   "cell_type": "code",
   "execution_count": 103,
   "metadata": {
    "scrolled": false
   },
   "outputs": [
    {
     "name": "stdout",
     "output_type": "stream",
     "text": [
      "Itn     Primal Obj        Dual Obj         NCols    MP(s)    SP(s)   Tot(s)  BarIter  SpxIter\n",
      "   0    +1.0240000e+06            -Inf      1024     0.01     0.05     0.06        7        0\n",
      "MOSEK warning 710: #8 (nearly) zero elements are specified in sparse col '' (1112) of matrix 'A'.\n",
      "MOSEK warning 710: #8 (nearly) zero elements are specified in sparse col '' (1113) of matrix 'A'.\n",
      "MOSEK warning 710: #8 (nearly) zero elements are specified in sparse col '' (1114) of matrix 'A'.\n",
      "MOSEK warning 710: #8 (nearly) zero elements are specified in sparse col '' (1115) of matrix 'A'.\n",
      "MOSEK warning 710: #8 (nearly) zero elements are specified in sparse col '' (1116) of matrix 'A'.\n",
      "MOSEK warning 710: #8 (nearly) zero elements are specified in sparse col '' (1117) of matrix 'A'.\n",
      "MOSEK warning 710: #8 (nearly) zero elements are specified in sparse col '' (1118) of matrix 'A'.\n",
      "MOSEK warning 710: #8 (nearly) zero elements are specified in sparse col '' (1119) of matrix 'A'.\n",
      "MOSEK warning 710: #8 (nearly) zero elements are specified in sparse col '' (1120) of matrix 'A'.\n",
      "MOSEK warning 710: #8 (nearly) zero elements are specified in sparse col '' (1121) of matrix 'A'.\n",
      "   1    +1.0210903e+06            -Inf      1127     0.02     0.15     0.18       18        0\n",
      "   2    +9.6448321e+05            -Inf      1230     0.04     0.28     0.32       26        0\n",
      "   3    +9.0830303e+05            -Inf      1333     0.08     0.37     0.45       37        0\n",
      "   4    +8.5830743e+05            -Inf      1436     0.10     0.44     0.54       51        0\n",
      "   5    +8.0691982e+05            -Inf      1539     0.13     0.55     0.68       72        0\n",
      "   6    +7.2304570e+05            -Inf      1642     0.16     0.67     0.83       89        0\n",
      "   7    +6.4088291e+05            -Inf      1745     0.20     0.87     1.08      108        0\n",
      "   8    +5.7735965e+05            -Inf      1848     0.23     0.96     1.20      124        0\n",
      "   9    +5.1302965e+05            -Inf      1951     0.27     1.10     1.38      142        0\n",
      "  10    +4.4656769e+05            -Inf      2054     0.31     1.21     1.53      158        0\n",
      "  11    +4.0853408e+05            -Inf      2157     0.35     1.40     1.76      176        0\n",
      "  12    +3.4030436e+05            -Inf      2260     0.40     1.68     2.09      191        0\n",
      "  13    +2.8702989e+05            -Inf      2363     0.45     1.87     2.33      211        0\n",
      "  14    +2.3368082e+05            -Inf      2466     0.49     2.20     2.70      227        0\n",
      "  15    +1.7658588e+05            -Inf      2569     0.55     2.72     3.28      242        0\n",
      "  16    +1.2643931e+05            -Inf      2672     0.59     3.26     3.87      256        0\n",
      "  17    +7.1236413e+04            -Inf      2775     0.63     4.10     4.75      269        0\n",
      "  18    +1.8676007e+04            -Inf      2878     0.68     4.19     4.88      287        0\n",
      "  19    +1.7655649e+04            -Inf      2981     0.72     4.29     5.03      299        0\n",
      "  20    +1.5655488e+04            -Inf      3084     0.77     4.38     5.16      311        0\n",
      "  21    +1.4402809e+04            -Inf      3187     0.81     4.57     5.40      321        0\n",
      "  22    +1.3631998e+04            -Inf      3290     0.85     4.69     5.56      331        0\n",
      "  23    +1.2100344e+04            -Inf      3393     0.90     4.80     5.72      345        0\n",
      "  24    +1.0891379e+04            -Inf      3496     0.95     4.88     5.85      356        0\n",
      "  25    +9.8999191e+03            -Inf      3599     0.99     4.99     6.00      366        0\n",
      "  26    +8.8995746e+03  -2.4787000e+03      3702     1.05     6.72     7.79      380        0\n",
      "  27    -3.6589633e+02  -2.4787000e+03      3742     1.12     6.83     7.98      401        0\n",
      "  28    -3.8395276e+02  -2.4787000e+03      3845     1.20     6.95     8.17      428        0\n",
      "  29    -3.8768796e+02  -2.4787000e+03      3948     1.27     7.05     8.34      448        0\n",
      "  30    -3.8930620e+02  -2.4787000e+03      4051     1.36     7.19     8.57      472        0\n",
      "  31    -3.9860856e+02  -2.4787000e+03      4154     1.44     7.42     8.89      493        0\n",
      "  32    -4.0661356e+02  -2.4787000e+03      4257     1.54     7.55     9.12      516        0\n",
      "  33    -4.0760696e+02  -2.4787000e+03      4360     1.63     7.71     9.36      534        0\n",
      "  34    -4.0979064e+02  -2.4787000e+03      4463     1.71     7.83     9.57      550        0\n",
      "  35    -4.1315715e+02  -2.4787000e+03      4566     1.81     7.96     9.81      574        0\n",
      "  36    -4.3327195e+02  -2.4787000e+03      4669     1.93     8.18    10.14      600        0\n",
      "  37    -4.3399218e+02  -2.4787000e+03      4772     2.04     8.35    10.42      623        0\n",
      "  38    -4.3407967e+02  -2.4787000e+03      4875     2.15     8.59    10.78      648        0\n",
      "  39    -4.3408952e+02  -2.4787000e+03      4978     2.28     8.90    11.21      673        0\n",
      "  40    -4.3411249e+02  -2.4787000e+03      5081     2.39     9.33    11.75      693        0\n",
      "  41    -4.3411249e+02  -2.4787000e+03      5081     2.51     9.67    12.21      713        0\n",
      "  42    -4.3411249e+02  -2.4787000e+03      5081     2.65    10.14    12.83      733        0\n",
      "  43    -4.3411249e+02  -2.4787000e+03      5081     2.78    10.59    13.40      753        0\n",
      "  44    -4.3411249e+02  -2.4787000e+03      5081     2.90    10.92    13.85      773        0\n",
      "  45    -4.3411249e+02  -2.4787000e+03      5081     3.02    11.35    14.40      793        0\n",
      "  46    -4.3411249e+02  -2.4787000e+03      5081     3.14    11.68    14.86      813        0\n",
      "  47    -4.3411249e+02  -2.4787000e+03      5081     3.26    12.17    15.47      833        0\n",
      "  48    -4.3411249e+02  -2.4787000e+03      5081     3.38    12.50    15.92      853        0\n",
      "  49    -4.3411249e+02  -2.4787000e+03      5081     3.50    12.94    16.48      873        0\n",
      "  50    -4.3411249e+02  -2.4787000e+03      5081     3.62    13.27    16.93      893        0\n",
      "  51    -4.3411249e+02  -2.4787000e+03      5081     3.74    13.71    17.49      913        0\n",
      "  52    -4.3411249e+02  -2.4787000e+03      5081     3.86    14.04    17.94      933        0\n",
      "  53    -4.3411249e+02  -2.4787000e+03      5081     3.99    14.49    18.52      953        0\n",
      "  54    -4.3411249e+02  -2.4787000e+03      5081     4.11    14.82    18.97      973        0\n",
      "  55    -4.3411249e+02  -2.4787000e+03      5081     4.24    15.27    19.54      993        0\n",
      "  56    -4.3411249e+02  -2.4787000e+03      5081     4.36    15.60    20.00     1013        0\n",
      "  57    -4.3411249e+02  -2.4787000e+03      5081     4.48    16.05    20.57     1033        0\n",
      "  58    -4.3411249e+02  -2.4787000e+03      5081     4.60    16.38    21.03     1053        0\n",
      "  59    -4.3411249e+02  -2.4787000e+03      5081     4.73    16.84    21.61     1073        0\n",
      "  60    -4.3411249e+02  -2.4787000e+03      5081     4.86    17.17    22.07     1093        0\n",
      "  61    -4.3411249e+02  -2.4787000e+03      5081     4.98    17.62    22.65     1113        0\n",
      "  62    -4.3411249e+02  -2.4787000e+03      5081     5.11    18.08    23.24     1133        0\n",
      "  63    -4.3411249e+02  -2.4787000e+03      5081     5.24    18.43    23.71     1153        0\n",
      "  64    -4.3411249e+02  -2.4787000e+03      5081     5.36    18.87    24.27     1173        0\n",
      "  65    -4.3411249e+02  -2.4787000e+03      5081     5.48    19.20    24.73     1193        0\n",
      "  66    -4.3411249e+02  -2.4787000e+03      5081     5.60    19.63    25.28     1213        0\n",
      "  67    -4.3411249e+02  -2.4787000e+03      5081     5.72    19.96    25.73     1233        0\n",
      "  68    -4.3411249e+02  -2.4787000e+03      5081     5.84    20.40    26.29     1253        0\n",
      "  69    -4.3411249e+02  -2.4787000e+03      5081     5.96    20.73    26.74     1273        0\n",
      "  70    -4.3411249e+02  -2.4787000e+03      5081     6.08    21.17    27.30     1293        0\n",
      "  71    -4.3411249e+02  -2.4787000e+03      5081     6.20    21.50    27.75     1313        0\n",
      "  72    -4.3411249e+02  -2.4787000e+03      5081     6.32    21.93    28.30     1333        0\n",
      "  73    -4.3411249e+02  -2.4787000e+03      5081     6.44    22.26    28.75     1353        0\n",
      "  74    -4.3411249e+02  -2.4787000e+03      5081     6.57    22.71    29.33     1373        0\n",
      "  75    -4.3411249e+02  -2.4787000e+03      5081     6.69    23.05    29.79     1393        0\n"
     ]
    },
    {
     "ename": "InterruptException",
     "evalue": "InterruptException:",
     "output_type": "error",
     "traceback": [
      "InterruptException:",
      "",
      "Stacktrace:",
      " [1] Mosek.Task(::Mosek.Env) at /home/mathieu/.julia/packages/Mosek/jB6sY/src/Mosek.jl:62",
      " [2] maketask() at /home/mathieu/.julia/packages/Mosek/jB6sY/src/Mosek.jl:196",
      " [3] LinearQuadraticModel(::MosekSolver) at /home/mathieu/.julia/packages/Mosek/jB6sY/src/MosekLPQCQPInterface.jl:51",
      " [4] #query!#2(::Bool, ::Float64, ::Int64, ::Dict{Any,Any}, ::Function, ::Linda.Oracle.LindaOracleMIP, ::Array{Float64,1}, ::Float64) at /home/mathieu/.julia/dev/Linda/src/Oracle/oracle_mip.jl:104",
      " [5] #query! at ./none:0 [inlined]",
      " [6] #query!#1(::Bool, ::Float64, ::Int64, ::Float64, ::Dict{Any,Any}, ::Function, ::Linda.Oracle.LindaOraclePool, ::Array{Float64,1}, ::Array{Float64,1}) at /home/mathieu/.julia/dev/Linda/src/Oracle/oracle_pool.jl:70",
      " [7] #query! at ./none:0 [inlined]",
      " [8] macro expansion at ./logging.jl:309 [inlined]",
      " [9] #solve_colgen!#4(::Dict{Any,Any}, ::Function, ::Linda.LindaEnv, ::Linda.LindaMaster{Mosek.MosekMathProgSolverInterface.MosekLinearQuadraticModel}, ::Linda.Oracle.LindaOraclePool) at /home/mathieu/.julia/dev/Linda/src/colgen.jl:51",
      " [10] solve_colgen!(::Linda.LindaEnv, ::Linda.LindaMaster{Mosek.MosekMathProgSolverInterface.MosekLinearQuadraticModel}, ::Linda.Oracle.LindaOraclePool) at /home/mathieu/.julia/dev/Linda/src/colgen.jl:14",
      " [11] top-level scope at In[103]:1"
     ]
    }
   ],
   "source": [
    "Linda.solve_colgen!(env, mp, pool)"
   ]
  },
  {
   "cell_type": "code",
   "execution_count": 51,
   "metadata": {},
   "outputs": [],
   "source": [
    "Mosek.putintparam(rmp.task, Mosek.MSK_IPAR_LOG, 1)\n",
    "Mosek.putintparam(rmp.task, Mosek.MSK_IPAR_OPTIMIZER, 3)"
   ]
  },
  {
   "cell_type": "code",
   "execution_count": 52,
   "metadata": {},
   "outputs": [
    {
     "name": "stdout",
     "output_type": "stream",
     "text": [
      "Problem\n",
      "  Name                   :                 \n",
      "  Objective sense        : min             \n",
      "  Type                   : LO (linear optimization problem)\n",
      "  Constraints            : 37513           \n",
      "  Cones                  : 0               \n",
      "  Scalar variables       : 55523           \n",
      "  Matrix variables       : 0               \n",
      "  Integer variables      : 0               \n",
      "\n",
      "Optimizer started.\n",
      "Optimizer terminated. Time: 0.03    \n",
      "\n",
      "\n",
      "Interior-point solution summary\n",
      "  Problem status  : UNKNOWN\n",
      "  Solution status : UNKNOWN\n",
      "  Primal.  obj: 1.9500000333e+10    nrm: 3e+02    Viol.  con: 1e-03    var: 0e+00  \n",
      "  Dual.    obj: 1.9500000334e+10    nrm: 1e+06    Viol.  con: 0e+00    var: 2e-07  \n",
      "\n",
      "Basic solution summary\n",
      "  Problem status  : PRIMAL_AND_DUAL_FEASIBLE\n",
      "  Solution status : OPTIMAL\n",
      "  Primal.  obj: 1.9500000334e+10    nrm: 1e+00    Viol.  con: 1e-16    var: 0e+00  \n",
      "  Dual.    obj: 1.9500000334e+10    nrm: 1e+06    Viol.  con: 0e+00    var: 3e-14  \n"
     ]
    }
   ],
   "source": [
    "MPB.optimize!(rmp)"
   ]
  },
  {
   "cell_type": "code",
   "execution_count": 78,
   "metadata": {},
   "outputs": [
    {
     "data": {
      "text/plain": [
       "250262.04979946063"
      ]
     },
     "execution_count": 78,
     "metadata": {},
     "output_type": "execute_result"
    }
   ],
   "source": [
    "MPB.getobjval(airl)"
   ]
  }
 ],
 "metadata": {
  "kernelspec": {
   "display_name": "Julia 1.0.1",
   "language": "julia",
   "name": "julia-1.0"
  },
  "language_info": {
   "file_extension": ".jl",
   "mimetype": "application/julia",
   "name": "julia",
   "version": "1.0.1"
  }
 },
 "nbformat": 4,
 "nbformat_minor": 2
}
