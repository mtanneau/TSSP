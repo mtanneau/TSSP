{
 "cells": [
  {
   "cell_type": "code",
   "execution_count": 1,
   "metadata": {
    "collapsed": true
   },
   "outputs": [],
   "source": [
    "using SparseArrays"
   ]
  },
  {
   "cell_type": "code",
   "execution_count": 32,
   "metadata": {},
   "outputs": [
    {
     "data": {
      "text/plain": [
       "12-element Array{String,1}:\n",
       " \"4node.cor\"   \n",
       " \"AIRL.cor\"    \n",
       " \"LandS.cor\"   \n",
       " \"assets.cor\"  \n",
       " \"chem.cor\"    \n",
       " \"env.cor\"     \n",
       " \"fxm.cor\"     \n",
       " \"phone.cor\"   \n",
       " \"pltexpA2.cor\"\n",
       " \"stocfor1.cor\"\n",
       " \"stocfor2.cor\"\n",
       " \"stormG2.cor\" "
      ]
     },
     "execution_count": 32,
     "metadata": {},
     "output_type": "execute_result"
    }
   ],
   "source": [
    "cor_files = [f for f in readdir(\"tssp/\") if f[end-3:end] == \".cor\"]"
   ]
  },
  {
   "cell_type": "code",
   "execution_count": 31,
   "metadata": {},
   "outputs": [
    {
     "data": {
      "text/plain": [
       "12-element Array{String,1}:\n",
       " \"4node.tim\"   \n",
       " \"AIRL.tim\"    \n",
       " \"LandS.tim\"   \n",
       " \"assets.tim\"  \n",
       " \"chem.tim\"    \n",
       " \"env.tim\"     \n",
       " \"fxm2.tim\"    \n",
       " \"phone.tim\"   \n",
       " \"pltexpA2.tim\"\n",
       " \"stocfor1.tim\"\n",
       " \"stocfor2.tim\"\n",
       " \"stormG2.tim\" "
      ]
     },
     "execution_count": 31,
     "metadata": {},
     "output_type": "execute_result"
    }
   ],
   "source": [
    "tim_files = [f for f in readdir(\"tssp/\") if f[end-3:end] == \".tim\"]"
   ]
  },
  {
   "cell_type": "code",
   "execution_count": 34,
   "metadata": {},
   "outputs": [],
   "source": [
    "sto_files = [f for f in readdir(\"tssp/\") if occursin(\".sto\", f)];"
   ]
  },
  {
   "cell_type": "code",
   "execution_count": 41,
   "metadata": {},
   "outputs": [
    {
     "name": "stdout",
     "output_type": "stream",
     "text": [
      "LandS_blocks.sto\n",
      "fxm2_16.sto\n",
      "fxm2_6.sto\n",
      "fxmev.sto\n",
      "pltexpA2_16.sto\n",
      "pltexpA2_6.sto\n",
      "stormG2_1000.sto\n",
      "stormG2_125.sto\n",
      "stormG2_27.sto\n",
      "stormG2_8.sto\n"
     ]
    }
   ],
   "source": [
    "# Files for which\n",
    "for f in sto_files\n",
    "    f_ = String(split(f, '.')[1])\n",
    "    if !in(f_*\".cor\", cor_files)\n",
    "        println(f)\n",
    "    end\n",
    "end"
   ]
  },
  {
   "cell_type": "markdown",
   "metadata": {},
   "source": [
    "# AIRL tests"
   ]
  },
  {
   "cell_type": "markdown",
   "metadata": {},
   "source": [
    "## Parsing `.cor` file"
   ]
  },
  {
   "cell_type": "code",
   "execution_count": 168,
   "metadata": {},
   "outputs": [
    {
     "data": {
      "text/plain": [
       "parsemps_bounds! (generic function with 1 method)"
      ]
     },
     "execution_count": 168,
     "metadata": {},
     "output_type": "execute_result"
    }
   ],
   "source": [
    "include(\"src/core_parser.jl\")"
   ]
  },
  {
   "cell_type": "code",
   "execution_count": 169,
   "metadata": {},
   "outputs": [
    {
     "data": {
      "text/plain": [
       "(Dict{String,Any}(\"name\"=>\"AIRL\",\"nrows\"=>8,\"range\"=>\"\",\"rhs\"=>\"RIGHT\",\"ncols\"=>12,\"bound\"=>\"\"), Dict{Any,Any}(\"HOURS2\"=>2,\"OBJ\"=>0,\"AVAIL12\"=>4,\"HOURS1\"=>1,\"AVAIL21\"=>5,\"DEMAND1\"=>7,\"AVAIL11\"=>3,\"DEMAND2\"=>8,\"AVAIL22\"=>6), Dict{Any,Any}(\"YMINUS2\"=>12,\"YPLUS2\"=>10,\"X121\"=>6,\"X21\"=>3,\"X212\"=>7,\"X11\"=>1,\"X22\"=>4,\"RIGHT\"=>0,\"YMINUS1\"=>11,\"YPLUS1\"=>9…), [1, 3, 7, 1, 4, 8, 2, 5, 7, 2  …  5, 7, 8, 6, 8, 7, 7, 8, 7, 8], [1, 1, 1, 2, 2, 2, 3, 3, 3, 4  …  7, 7, 7, 8, 8, 8, 9, 10, 11, 12], [24.0, -24.0, 50.0, 14.0, -14.0, 75.0, 49.0, -49.0, 20.0, 29.0  …  36.0, -14.6939, 20.0, 56.0, -38.621, 20.0, 1.0, 1.0, -1.0, -1.0], [1, 2, 3, 4, 5, 6, 7, 8, 9, 10], [7200.0, 6000.0, 7200.0, 4000.0, 1300.0, -4228.57, 210.204, 975.862, 500.0, 250.0], [1, 2, 7, 8], [7200.0, 7200.0, 1.0, 1.0], Any[\"L\", \"L\", \"L\", \"L\", \"L\", \"L\", \"E\", \"E\"])"
      ]
     },
     "execution_count": 169,
     "metadata": {},
     "output_type": "execute_result"
    }
   ],
   "source": [
    "d, row2idx, col2idx, I, J, V, objI, objV, rhsI, rhsV, senses = parse_cor_file(\"tssp/AIRL.cor\")"
   ]
  },
  {
   "cell_type": "markdown",
   "metadata": {},
   "source": [
    "## Parsing `.tim` file"
   ]
  },
  {
   "cell_type": "code",
   "execution_count": 154,
   "metadata": {},
   "outputs": [
    {
     "data": {
      "text/plain": [
       "parse_time_file (generic function with 1 method)"
      ]
     },
     "execution_count": 154,
     "metadata": {},
     "output_type": "execute_result"
    }
   ],
   "source": [
    "include(\"src/time_parser.jl\")"
   ]
  },
  {
   "cell_type": "code",
   "execution_count": 155,
   "metadata": {},
   "outputs": [
    {
     "data": {
      "text/plain": [
       "(\"AIRL\", false, [\"X11\", \"X112\"], [\"HOURS1\", \"AVAIL11\"])"
      ]
     },
     "execution_count": 155,
     "metadata": {},
     "output_type": "execute_result"
    }
   ],
   "source": [
    "name, is_lp, col_periods, row_periods = parse_time_file(\"tssp/AIRL.tim\")"
   ]
  },
  {
   "cell_type": "markdown",
   "metadata": {},
   "source": [
    "### Extract A, T, W, c, q, b, h"
   ]
  },
  {
   "cell_type": "code",
   "execution_count": 156,
   "metadata": {},
   "outputs": [
    {
     "data": {
      "text/plain": [
       "(1:4, 5:12)"
      ]
     },
     "execution_count": 156,
     "metadata": {},
     "output_type": "execute_result"
    }
   ],
   "source": [
    "col1, col2 = \n",
    "col2idx[col_periods[1]]:(col2idx[col_periods[2]]-1),  # First-period variables\n",
    "col2idx[col_periods[2]]:d[\"ncols\"]  # Second-period variables"
   ]
  },
  {
   "cell_type": "code",
   "execution_count": 157,
   "metadata": {},
   "outputs": [
    {
     "data": {
      "text/plain": [
       "(1:2, 3:8)"
      ]
     },
     "execution_count": 157,
     "metadata": {},
     "output_type": "execute_result"
    }
   ],
   "source": [
    "row1, row2 = \n",
    "row2idx[row_periods[1]]:(row2idx[row_periods[2]]-1),  # First-period rows\n",
    "row2idx[row_periods[2]]:d[\"nrows\"]  # Second-period variables"
   ]
  },
  {
   "cell_type": "code",
   "execution_count": 195,
   "metadata": {},
   "outputs": [
    {
     "data": {
      "text/plain": [
       "([7200.0, 6000.0, 7200.0, 4000.0], [1300.0, -4228.57, 210.204, 975.862, 500.0, 250.0, 0.0, 0.0])"
      ]
     },
     "execution_count": 195,
     "metadata": {},
     "output_type": "execute_result"
    }
   ],
   "source": [
    "# Right-hand sides and objectives\n",
    "obj = sparsevec(objI, objV, d[\"ncols\"])\n",
    "c, q = Vector(obj[col1]), Vector(obj[col2])"
   ]
  },
  {
   "cell_type": "code",
   "execution_count": 196,
   "metadata": {},
   "outputs": [
    {
     "data": {
      "text/plain": [
       "([7200.0, 7200.0], [0.0, 0.0, 0.0, 0.0, 1.0, 1.0])"
      ]
     },
     "execution_count": 196,
     "metadata": {},
     "output_type": "execute_result"
    }
   ],
   "source": [
    "rhs = sparsevec(rhsI, rhsV, d[\"nrows\"])\n",
    "b, h = Vector(rhs[row1]), Vector(rhs[row2])"
   ]
  },
  {
   "cell_type": "code",
   "execution_count": 197,
   "metadata": {},
   "outputs": [],
   "source": [
    "A_ = sparse(I, J, V);"
   ]
  },
  {
   "cell_type": "code",
   "execution_count": 198,
   "metadata": {},
   "outputs": [],
   "source": [
    "A = A_[row1, col1]\n",
    "T = A_[row2, col1]\n",
    "W = A_[row2, col2];"
   ]
  },
  {
   "cell_type": "markdown",
   "metadata": {},
   "source": [
    "## Parsing `.sto` file"
   ]
  },
  {
   "cell_type": "code",
   "execution_count": 199,
   "metadata": {},
   "outputs": [
    {
     "data": {
      "text/plain": [
       "parse_block_line! (generic function with 1 method)"
      ]
     },
     "execution_count": 199,
     "metadata": {},
     "output_type": "execute_result"
    }
   ],
   "source": [
    "include(\"src/stoch_parser.jl\")"
   ]
  },
  {
   "cell_type": "code",
   "execution_count": 239,
   "metadata": {
    "collapsed": true
   },
   "outputs": [],
   "source": [
    "name, indeps, blocks = parse_sto_file(\"tssp/AIRL.sto.first\");"
   ]
  },
  {
   "cell_type": "code",
   "execution_count": 240,
   "metadata": {},
   "outputs": [
    {
     "data": {
      "text/plain": [
       "25"
      ]
     },
     "execution_count": 240,
     "metadata": {},
     "output_type": "execute_result"
    }
   ],
   "source": [
    "S_ = Base.Iterators.product(values(indeps)..., values(blocks)...)\n",
    "S = [prod(collect(s)) for s in S_]\n",
    "length(S)"
   ]
  },
  {
   "cell_type": "code",
   "execution_count": 222,
   "metadata": {},
   "outputs": [
    {
     "data": {
      "text/plain": [
       "generate_scenario_data (generic function with 2 methods)"
      ]
     },
     "execution_count": 222,
     "metadata": {},
     "output_type": "execute_result"
    }
   ],
   "source": [
    "function generate_scenario_data(\n",
    "        A, T, W, q, h,\n",
    "        row2idx, col2idx, \n",
    "        prob, coeffs\n",
    ")\n",
    "    m1, n1 = size(A)\n",
    "    m2, n2 = size(W)\n",
    "    m2 == size(T, 1) || error(\"T and W has different number of rows.\")\n",
    "    n1 == size(T, 2) || error(\"T and A has different number of columns.\")\n",
    "    \n",
    "    # Create problem data\n",
    "    h_ = copy(h)          # Right-hand side\n",
    "    q_ = prob .* copy(q)  # Objective ()\n",
    "    \n",
    "    T_ = copy(T)          # T_r matrix\n",
    "    W_ = copy(W)          # W_r\n",
    "    \n",
    "    \n",
    "    for (k, v) in coeffs\n",
    "        row::Int = row2idx[k[1]]\n",
    "        col::Int = col2idx[k[2]]\n",
    "        \n",
    "        row == 0 || row > m1 || error(\"Entry given for first-stage row $(k[1])\")\n",
    "        \n",
    "        # Check four cases\n",
    "        if row == 0 && col > 0\n",
    "            # Objective coefficient\n",
    "#             println(\"Obj: $k: $v\")\n",
    "            q_[col - n1] = v\n",
    "            \n",
    "        elseif row > 0 && col == 0\n",
    "            # Right-hand side\n",
    "#             println(\"Rhs: $k \\t $v\")\n",
    "            h_[row - m1] = v\n",
    "            \n",
    "        elseif row > 0 && col > 0\n",
    "            # Check whether belongs to T or W\n",
    "            if col <= n1\n",
    "                T[row - m1, col] = v\n",
    "            else\n",
    "                W[row - m1, col - n1] = v\n",
    "            end\n",
    "        else\n",
    "            eror(\"Wrong combination of row/col indices: $k\")\n",
    "        end\n",
    "    end\n",
    "    \n",
    "    \n",
    "    return T_, W_, q_, h_\n",
    "end"
   ]
  },
  {
   "cell_type": "code",
   "execution_count": 241,
   "metadata": {},
   "outputs": [],
   "source": [
    "pb_data = [generate_scenario_data(A, T, W, q, h, row2idx, col2idx, s.p, s.values) for s in S][:];"
   ]
  },
  {
   "cell_type": "code",
   "execution_count": 242,
   "metadata": {},
   "outputs": [],
   "source": [
    "T_ = [x[1] for x in pb_data];\n",
    "W_ = [x[2] for x in pb_data];\n",
    "q_ = [x[3] for x in pb_data];\n",
    "h_ = [x[4] for x in pb_data];"
   ]
  },
  {
   "cell_type": "code",
   "execution_count": 243,
   "metadata": {},
   "outputs": [
    {
     "data": {
      "text/plain": [
       "25"
      ]
     },
     "execution_count": 243,
     "metadata": {},
     "output_type": "execute_result"
    }
   ],
   "source": [
    "m1, n1 = size(A)\n",
    "m2, n2 = size(W)\n",
    "R = length(S)"
   ]
  },
  {
   "cell_type": "code",
   "execution_count": 244,
   "metadata": {},
   "outputs": [],
   "source": [
    "rhs_ = vcat(b, h_...)\n",
    "obj_ = vcat(c, q_...)\n",
    "senses_ = vcat(senses[1:m1], repeat(senses[(m1+1):end], R))\n",
    "n_ = length(obj_)\n",
    "m_ = length(rhs_)\n",
    "A_ = vcat(\n",
    "    hcat(A, spzeros(m1, n2*R)),\n",
    "    [\n",
    "        hcat(\n",
    "            T_[r],\n",
    "            spzeros(m2, n2*(r-1)),\n",
    "            W_[r],\n",
    "            spzeros(m2, n2*(R-r))\n",
    "        )\n",
    "        for r in 1:R\n",
    "    ]...\n",
    ");\n",
    "\n",
    "rhs_l = rhs_ .- Inf .* (senses_ .== \"L\");\n",
    "rhs_u = rhs_ .+ Inf .* (senses_ .== \"G\");"
   ]
  },
  {
   "cell_type": "code",
   "execution_count": 258,
   "metadata": {},
   "outputs": [
    {
     "data": {
      "text/plain": [
       "0.3333333333333333"
      ]
     },
     "execution_count": 258,
     "metadata": {},
     "output_type": "execute_result"
    }
   ],
   "source": [
    "nnz(W_[1]) / (prod(size(W_[1])))"
   ]
  },
  {
   "cell_type": "code",
   "execution_count": 147,
   "metadata": {},
   "outputs": [
    {
     "data": {
      "text/plain": [
       "MathProgBase"
      ]
     },
     "execution_count": 147,
     "metadata": {},
     "output_type": "execute_result"
    }
   ],
   "source": [
    "import MathProgBase\n",
    "MPB = MathProgBase"
   ]
  },
  {
   "cell_type": "code",
   "execution_count": 148,
   "metadata": {
    "collapsed": true
   },
   "outputs": [],
   "source": [
    "import CPLEX: CplexSolver"
   ]
  },
  {
   "cell_type": "code",
   "execution_count": 251,
   "metadata": {
    "collapsed": true
   },
   "outputs": [],
   "source": [
    "airl = MPB.LinearQuadraticModel(CplexSolver())\n",
    "MPB.loadproblem!(airl, A_, zeros(n_), Inf*ones(n_), obj_, rhs_l, rhs_u, :Min)"
   ]
  },
  {
   "cell_type": "code",
   "execution_count": 252,
   "metadata": {},
   "outputs": [
    {
     "name": "stdout",
     "output_type": "stream",
     "text": [
      "Tried aggregator 1 time.\n",
      "LP Presolve eliminated 0 rows and 50 columns.\n",
      "Reduced LP has 152 rows, 154 columns, and 554 nonzeros.\n",
      "Presolve time = 0.00 sec. (0.10 ticks)\n",
      "\n",
      "Iteration log . . .\n",
      "Iteration:     1   Scaled dual infeas =          4115.815549\n",
      "Iteration:    62   Scaled dual infeas =           347.530648\n",
      "Iteration:    76   Dual objective     =         37161.949063\n",
      "Iteration:   137   Dual objective     =        246003.014510\n"
     ]
    },
    {
     "data": {
      "text/plain": [
       "0.003462076187133789"
      ]
     },
     "execution_count": 252,
     "metadata": {},
     "output_type": "execute_result"
    }
   ],
   "source": [
    "MPB.optimize!(airl)"
   ]
  },
  {
   "cell_type": "code",
   "execution_count": 253,
   "metadata": {},
   "outputs": [
    {
     "data": {
      "text/plain": [
       "249101.67207233087"
      ]
     },
     "execution_count": 253,
     "metadata": {},
     "output_type": "execute_result"
    }
   ],
   "source": [
    "MPB.getobjval(airl)"
   ]
  },
  {
   "cell_type": "markdown",
   "metadata": {},
   "source": [
    "### Build $T_{r}$, $W_{r}$"
   ]
  },
  {
   "cell_type": "markdown",
   "metadata": {},
   "source": [
    "# Check for parsing errors"
   ]
  },
  {
   "cell_type": "code",
   "execution_count": 79,
   "metadata": {},
   "outputs": [
    {
     "name": "stdout",
     "output_type": "stream",
     "text": [
      "4NODECAR\n",
      "\t|S| = 1024\n",
      "4NODECAR\n",
      "\t|S| = 16384\n",
      "4NODECAR\n",
      "\t|S| = 2048\n",
      "4NODECAR\n",
      "\t|S| = 32768\n",
      "4NODECAR\n",
      "\t|S| = 4096\n",
      "4NODECAR\n",
      "\t|S| = 8192\n",
      "ASS2BY5\n",
      "\t|S| = 37500\n",
      "ENV\n",
      "\t|S| = 1200\n",
      "ENV\n",
      "\t|S| = 1875\n",
      "ENV\n",
      "\t|S| = 32928\n",
      "ENV\n",
      "\t|S| = 3780\n",
      "ENV\n",
      "\t|S| = 5292\n",
      "ENV\n",
      "\t|S| = 8232\n",
      "fxmev.sto\tError: MethodError(Base.reduce_empty, (Base.mul_prod, Union{}), 0x000000000000620c)\n",
      "PHONE\n",
      "\t|S| = 32768\n",
      "stocfor1.sto\tError: MethodError(Base.reduce_empty, (Base.mul_prod, Union{}), 0x000000000000620c)\n",
      "storm\n",
      "\t|S| = 1000\n"
     ]
    }
   ],
   "source": [
    "n_large = 0\n",
    "\n",
    "for f in sto_files\n",
    "    \n",
    "    try\n",
    "        name, indeps, blocks = parse_sto_file(\"tssp/\"*f)\n",
    "        \n",
    "\n",
    "        # Check if some blocms must be compared to ref block\n",
    "        for br in blocks\n",
    "            realizations = br[2]\n",
    "\n",
    "            ref = realizations[1].values\n",
    "\n",
    "            for r_ in realizations[2:end]\n",
    "                # check whether some keys are in ref but not in current block\n",
    "                s_ = setdiff(keys(ref), keys(r_.values))\n",
    "                length(s_) > 0 && println(\"\\t\", f, \"\\n\", br[1])\n",
    "            end\n",
    "        end\n",
    "        \n",
    "        # Compute all scenarios\n",
    "        S_ = Base.Iterators.product(values(indeps)..., values(blocks)...)\n",
    "        S = [prod(collect(s)) for s in S_]\n",
    "        length(S) >= 1000 && println(name, \"\\n\\t|S| = $(length(S))\")\n",
    "        if length(S) >= 1000\n",
    "            n_large += 1\n",
    "        end\n",
    "        \n",
    "    catch err\n",
    "        println(f, \"\\tError: $err\")\n",
    "    end\n",
    "    \n",
    "end"
   ]
  }
 ],
 "metadata": {
  "kernelspec": {
   "display_name": "Julia 1.0.2",
   "language": "julia",
   "name": "julia-1.0"
  },
  "language_info": {
   "file_extension": ".jl",
   "mimetype": "application/julia",
   "name": "julia",
   "version": "1.0.2"
  }
 },
 "nbformat": 4,
 "nbformat_minor": 2
}
