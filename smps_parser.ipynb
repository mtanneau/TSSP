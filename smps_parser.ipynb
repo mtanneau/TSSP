{
 "cells": [
  {
   "cell_type": "code",
   "execution_count": 16,
   "metadata": {
    "collapsed": true
   },
   "outputs": [],
   "source": [
    "using SparseArrays"
   ]
  },
  {
   "cell_type": "code",
   "execution_count": 69,
   "metadata": {},
   "outputs": [
    {
     "data": {
      "text/plain": [
       "parsemps_bounds! (generic function with 1 method)"
      ]
     },
     "execution_count": 69,
     "metadata": {},
     "output_type": "execute_result"
    }
   ],
   "source": [
    "include(\"src/core_parser.jl\")"
   ]
  },
  {
   "cell_type": "code",
   "execution_count": 2,
   "metadata": {},
   "outputs": [
    {
     "data": {
      "text/plain": [
       "parse_time_file (generic function with 1 method)"
      ]
     },
     "execution_count": 2,
     "metadata": {},
     "output_type": "execute_result"
    }
   ],
   "source": [
    "include(\"src/time_parser.jl\")"
   ]
  },
  {
   "cell_type": "markdown",
   "metadata": {},
   "source": [
    "# AIRL tests"
   ]
  },
  {
   "cell_type": "markdown",
   "metadata": {},
   "source": [
    "## Parsing `.cor` file"
   ]
  },
  {
   "cell_type": "code",
   "execution_count": 74,
   "metadata": {},
   "outputs": [
    {
     "data": {
      "text/plain": [
       "12-element Array{String,1}:\n",
       " \"4node.cor\"   \n",
       " \"AIRL.cor\"    \n",
       " \"LandS.cor\"   \n",
       " \"assets.cor\"  \n",
       " \"chem.cor\"    \n",
       " \"env.cor\"     \n",
       " \"fxm.cor\"     \n",
       " \"phone.cor\"   \n",
       " \"pltexpA2.cor\"\n",
       " \"stocfor1.cor\"\n",
       " \"stocfor2.cor\"\n",
       " \"stormG2.cor\" "
      ]
     },
     "execution_count": 74,
     "metadata": {},
     "output_type": "execute_result"
    }
   ],
   "source": [
    "cor_files = [f for f in readdir(\"tssp/\") if f[end-3:end] == \".cor\"]"
   ]
  },
  {
   "cell_type": "code",
   "execution_count": 106,
   "metadata": {},
   "outputs": [
    {
     "data": {
      "text/plain": [
       "(Dict{String,Any}(\"name\"=>\"AIRL\",\"nrows\"=>8,\"range\"=>\"\",\"rhs\"=>\"RIGHT\",\"ncols\"=>12,\"bound\"=>\"\"), Dict{Any,Any}(\"HOURS2\"=>2,\"OBJ\"=>0,\"AVAIL12\"=>4,\"HOURS1\"=>1,\"AVAIL21\"=>5,\"DEMAND1\"=>7,\"AVAIL11\"=>3,\"DEMAND2\"=>8,\"AVAIL22\"=>6), Dict{Any,Any}(\"YMINUS2\"=>12,\"YPLUS2\"=>10,\"X121\"=>6,\"X21\"=>3,\"X212\"=>7,\"X11\"=>1,\"X22\"=>4,\"RIGHT\"=>0,\"YMINUS1\"=>11,\"YPLUS1\"=>9…), [1, 3, 7, 1, 4, 8, 2, 5, 7, 2  …  5, 7, 8, 6, 8, 7, 7, 8, 7, 8], [1, 1, 1, 2, 2, 2, 3, 3, 3, 4  …  7, 7, 7, 8, 8, 8, 9, 10, 11, 12], [24.0, -24.0, 50.0, 14.0, -14.0, 75.0, 49.0, -49.0, 20.0, 29.0  …  36.0, -14.6939, 20.0, 56.0, -38.621, 20.0, 1.0, 1.0, -1.0, -1.0], [1, 2, 3, 4, 5, 6, 7, 8, 9, 10], [7200.0, 6000.0, 7200.0, 4000.0, 1300.0, -4228.57, 210.204, 975.862, 500.0, 250.0], [1, 2, 7, 8], [7200.0, 7200.0, 1.0, 1.0])"
      ]
     },
     "execution_count": 106,
     "metadata": {},
     "output_type": "execute_result"
    }
   ],
   "source": [
    "d, row2idx, col2idx, I, J, V, cI, cV, bI, bV = parse_cor_file(\"AIRL.cor\")"
   ]
  },
  {
   "cell_type": "markdown",
   "metadata": {},
   "source": [
    "## Parsing `.tim` file"
   ]
  },
  {
   "cell_type": "code",
   "execution_count": 24,
   "metadata": {},
   "outputs": [
    {
     "data": {
      "text/plain": [
       "(\"AIRL\", false, [\"X11\", \"X112\"], [\"HOURS1\", \"AVAIL11\"])"
      ]
     },
     "execution_count": 24,
     "metadata": {},
     "output_type": "execute_result"
    }
   ],
   "source": [
    "name, is_lp, col_periods, row_periods = parse_time_file(\"AIRL.tim\")"
   ]
  },
  {
   "cell_type": "code",
   "execution_count": 29,
   "metadata": {},
   "outputs": [
    {
     "data": {
      "text/plain": [
       "4"
      ]
     },
     "execution_count": 29,
     "metadata": {},
     "output_type": "execute_result"
    }
   ],
   "source": [
    "col2idx[col_periods[2]]-1"
   ]
  },
  {
   "cell_type": "code",
   "execution_count": 30,
   "metadata": {},
   "outputs": [
    {
     "data": {
      "text/plain": [
       "2"
      ]
     },
     "execution_count": 30,
     "metadata": {},
     "output_type": "execute_result"
    }
   ],
   "source": [
    "row2idx[row_periods[2]]-1"
   ]
  },
  {
   "cell_type": "code",
   "execution_count": 40,
   "metadata": {},
   "outputs": [],
   "source": [
    "first_period_vars = 1:(col2idx[col_periods[2]]-1);\n",
    "second_period_vars = col2idx[col_periods[2]]:length(col2idx);\n",
    "\n",
    "first_period_rows = 1:(row2idx[row_periods[2]]-1);\n",
    "second_period_rows = row2idx[row_periods[2]]:(length(row2idx)-1);"
   ]
  },
  {
   "cell_type": "code",
   "execution_count": 41,
   "metadata": {},
   "outputs": [
    {
     "data": {
      "text/plain": [
       "(1:4, 5:12)"
      ]
     },
     "execution_count": 41,
     "metadata": {},
     "output_type": "execute_result"
    }
   ],
   "source": [
    "first_period_vars, second_period_vars"
   ]
  },
  {
   "cell_type": "code",
   "execution_count": 42,
   "metadata": {},
   "outputs": [
    {
     "data": {
      "text/plain": [
       "(1:2, 3:8)"
      ]
     },
     "execution_count": 42,
     "metadata": {},
     "output_type": "execute_result"
    }
   ],
   "source": [
    "first_period_rows, second_period_rows"
   ]
  },
  {
   "cell_type": "code",
   "execution_count": 45,
   "metadata": {},
   "outputs": [
    {
     "data": {
      "text/plain": [
       "8×12 Array{Float64,2}:\n",
       "  24.0   14.0    0.0    0.0    0.0    …    0.0    0.0  0.0   0.0   0.0\n",
       "   0.0    0.0   49.0   29.0    0.0         0.0    0.0  0.0   0.0   0.0\n",
       " -24.0    0.0    0.0    0.0   19.0         0.0    0.0  0.0   0.0   0.0\n",
       "   0.0  -14.0    0.0    0.0    0.0         0.0    0.0  0.0   0.0   0.0\n",
       "   0.0    0.0  -49.0    0.0    0.0         0.0    0.0  0.0   0.0   0.0\n",
       "   0.0    0.0    0.0  -29.0    0.0    …   56.0    0.0  0.0   0.0   0.0\n",
       "  50.0    0.0   20.0    0.0  -39.583      20.0    1.0  0.0  -1.0   0.0\n",
       "   0.0   75.0    0.0   20.0   75.0       -38.621  0.0  1.0   0.0  -1.0"
      ]
     },
     "execution_count": 45,
     "metadata": {},
     "output_type": "execute_result"
    }
   ],
   "source": [
    "Matrix(A_)"
   ]
  },
  {
   "cell_type": "code",
   "execution_count": 46,
   "metadata": {},
   "outputs": [
    {
     "data": {
      "text/plain": [
       "6×8 Array{Float64,2}:\n",
       "  19.0       0.0      0.0       0.0    0.0  0.0   0.0   0.0\n",
       "   0.0      29.0      0.0       0.0    0.0  0.0   0.0   0.0\n",
       "   0.0       0.0     36.0       0.0    0.0  0.0   0.0   0.0\n",
       "   0.0       0.0      0.0      56.0    0.0  0.0   0.0   0.0\n",
       " -39.583    50.0    -14.6939   20.0    1.0  0.0  -1.0   0.0\n",
       "  75.0    -155.357   20.0     -38.621  0.0  1.0   0.0  -1.0"
      ]
     },
     "execution_count": 46,
     "metadata": {},
     "output_type": "execute_result"
    }
   ],
   "source": [
    "A_ = sparse(I, J, V);\n",
    "A = Matrix(A_[first_period_rows, first_period_vars])\n",
    "T = Matrix(A_[second_period_rows, first_period_vars])\n",
    "W = Matrix(A_[second_period_rows, second_period_vars])"
   ]
  },
  {
   "cell_type": "code",
   "execution_count": 47,
   "metadata": {},
   "outputs": [
    {
     "data": {
      "text/plain": [
       "2×4 Array{Float64,2}:\n",
       " 24.0  14.0   0.0   0.0\n",
       "  0.0   0.0  49.0  29.0"
      ]
     },
     "execution_count": 47,
     "metadata": {},
     "output_type": "execute_result"
    }
   ],
   "source": [
    "A"
   ]
  },
  {
   "cell_type": "code",
   "execution_count": 48,
   "metadata": {},
   "outputs": [
    {
     "data": {
      "text/plain": [
       "6×4 Array{Float64,2}:\n",
       " -24.0    0.0    0.0    0.0\n",
       "   0.0  -14.0    0.0    0.0\n",
       "   0.0    0.0  -49.0    0.0\n",
       "   0.0    0.0    0.0  -29.0\n",
       "  50.0    0.0   20.0    0.0\n",
       "   0.0   75.0    0.0   20.0"
      ]
     },
     "execution_count": 48,
     "metadata": {},
     "output_type": "execute_result"
    }
   ],
   "source": [
    "T"
   ]
  },
  {
   "cell_type": "code",
   "execution_count": 49,
   "metadata": {},
   "outputs": [
    {
     "data": {
      "text/plain": [
       "6×8 Array{Float64,2}:\n",
       "  19.0       0.0      0.0       0.0    0.0  0.0   0.0   0.0\n",
       "   0.0      29.0      0.0       0.0    0.0  0.0   0.0   0.0\n",
       "   0.0       0.0     36.0       0.0    0.0  0.0   0.0   0.0\n",
       "   0.0       0.0      0.0      56.0    0.0  0.0   0.0   0.0\n",
       " -39.583    50.0    -14.6939   20.0    1.0  0.0  -1.0   0.0\n",
       "  75.0    -155.357   20.0     -38.621  0.0  1.0   0.0  -1.0"
      ]
     },
     "execution_count": 49,
     "metadata": {},
     "output_type": "execute_result"
    }
   ],
   "source": [
    "W"
   ]
  },
  {
   "cell_type": "markdown",
   "metadata": {},
   "source": [
    "## Parsing `.sto` file"
   ]
  },
  {
   "cell_type": "code",
   "execution_count": 71,
   "metadata": {},
   "outputs": [
    {
     "data": {
      "text/plain": [
       "parse_block_line! (generic function with 1 method)"
      ]
     },
     "execution_count": 71,
     "metadata": {},
     "output_type": "execute_result"
    }
   ],
   "source": [
    "include(\"src/stoch_parser.jl\")"
   ]
  },
  {
   "cell_type": "code",
   "execution_count": 72,
   "metadata": {},
   "outputs": [],
   "source": [
    "sto_files = [f for f in readdir(\"tssp/\") if occursin(\".sto\", f)];"
   ]
  },
  {
   "cell_type": "code",
   "execution_count": 75,
   "metadata": {},
   "outputs": [
    {
     "data": {
      "text/plain": [
       "49"
      ]
     },
     "execution_count": 75,
     "metadata": {},
     "output_type": "execute_result"
    }
   ],
   "source": [
    "length(sto_files)"
   ]
  },
  {
   "cell_type": "code",
   "execution_count": 79,
   "metadata": {},
   "outputs": [
    {
     "name": "stdout",
     "output_type": "stream",
     "text": [
      "4NODECAR\n",
      "\t|S| = 1024\n",
      "4NODECAR\n",
      "\t|S| = 16384\n",
      "4NODECAR\n",
      "\t|S| = 2048\n",
      "4NODECAR\n",
      "\t|S| = 32768\n",
      "4NODECAR\n",
      "\t|S| = 4096\n",
      "4NODECAR\n",
      "\t|S| = 8192\n",
      "ASS2BY5\n",
      "\t|S| = 37500\n",
      "ENV\n",
      "\t|S| = 1200\n",
      "ENV\n",
      "\t|S| = 1875\n",
      "ENV\n",
      "\t|S| = 32928\n",
      "ENV\n",
      "\t|S| = 3780\n",
      "ENV\n",
      "\t|S| = 5292\n",
      "ENV\n",
      "\t|S| = 8232\n",
      "fxmev.sto\tError: MethodError(Base.reduce_empty, (Base.mul_prod, Union{}), 0x000000000000620c)\n",
      "PHONE\n",
      "\t|S| = 32768\n",
      "stocfor1.sto\tError: MethodError(Base.reduce_empty, (Base.mul_prod, Union{}), 0x000000000000620c)\n",
      "storm\n",
      "\t|S| = 1000\n"
     ]
    }
   ],
   "source": [
    "n_large = 0\n",
    "\n",
    "for f in sto_files\n",
    "    \n",
    "    try\n",
    "        name, indeps, blocks = parse_sto_file(\"tssp/\"*f)\n",
    "        \n",
    "\n",
    "        # Check if some blocms must be compared to ref block\n",
    "        for br in blocks\n",
    "            realizations = br[2]\n",
    "\n",
    "            ref = realizations[1].values\n",
    "\n",
    "            for r_ in realizations[2:end]\n",
    "                # check whether some keys are in ref but not in current block\n",
    "                s_ = setdiff(keys(ref), keys(r_.values))\n",
    "                length(s_) > 0 && println(\"\\t\", f, \"\\n\", br[1])\n",
    "            end\n",
    "        end\n",
    "        \n",
    "        # Compute all scenarios\n",
    "        S_ = Base.Iterators.product(values(indeps)..., values(blocks)...)\n",
    "        S = [prod(collect(s)) for s in S_]\n",
    "        length(S) >= 1000 && println(name, \"\\n\\t|S| = $(length(S))\")\n",
    "        if length(S) >= 1000\n",
    "            n_large += 1\n",
    "        end\n",
    "        \n",
    "    catch err\n",
    "        println(f, \"\\tError: $err\")\n",
    "    end\n",
    "    \n",
    "end"
   ]
  },
  {
   "cell_type": "code",
   "execution_count": 15,
   "metadata": {},
   "outputs": [],
   "source": [
    "name, indeps, blocks = parse_sto_file(\"tssp/env.sto.15\");"
   ]
  },
  {
   "cell_type": "code",
   "execution_count": 48,
   "metadata": {},
   "outputs": [
    {
     "name": "stdout",
     "output_type": "stream",
     "text": [
      "0\n",
      "0\n"
     ]
    }
   ],
   "source": [
    "for br in blocks\n",
    "    realizations = br[2]\n",
    "    \n",
    "    ref = realizations[1].values\n",
    "    \n",
    "    for r_ in realizations[2:end]\n",
    "        # check whether some keys are in ref but not in current block\n",
    "        s_ = setdiff(keys(ref), keys(r_.values))\n",
    "        println(length(s_))\n",
    "    end\n",
    "end"
   ]
  },
  {
   "cell_type": "code",
   "execution_count": 20,
   "metadata": {},
   "outputs": [
    {
     "data": {
      "text/plain": [
       "15"
      ]
     },
     "execution_count": 20,
     "metadata": {},
     "output_type": "execute_result"
    }
   ],
   "source": [
    "S_ = Base.Iterators.product(values(indeps)..., values(blocks)...)\n",
    "S = [prod(collect(s)) for s in S_]\n",
    "length(S)"
   ]
  },
  {
   "cell_type": "code",
   "execution_count": 25,
   "metadata": {
    "scrolled": false
   },
   "outputs": [
    {
     "data": {
      "text/plain": [
       "Dict{Tuple{String,String},Float64} with 5 entries:\n",
       "  (\"CO2LIM2\", \"RIGHT\")    => 550.0\n",
       "  (\"CO2LIM2\", \"IMELC2WN\") => 1.2\n",
       "  (\"CO2LIM2\", \"IMELC2SD\") => 1.2\n",
       "  (\"CO2LIM2\", \"IMELC2SN\") => 1.2\n",
       "  (\"CO2LIM2\", \"IMELC2WD\") => 1.2"
      ]
     },
     "metadata": {},
     "output_type": "display_data"
    },
    {
     "data": {
      "text/plain": [
       "Dict{Tuple{String,String},Float64} with 5 entries:\n",
       "  (\"CO2LIM2\", \"RIGHT\")    => 470.0\n",
       "  (\"CO2LIM2\", \"IMELC2WN\") => 1.2\n",
       "  (\"CO2LIM2\", \"IMELC2SD\") => 1.2\n",
       "  (\"CO2LIM2\", \"IMELC2SN\") => 1.2\n",
       "  (\"CO2LIM2\", \"IMELC2WD\") => 1.2"
      ]
     },
     "metadata": {},
     "output_type": "display_data"
    },
    {
     "data": {
      "text/plain": [
       "Dict{Tuple{String,String},Float64} with 5 entries:\n",
       "  (\"CO2LIM2\", \"RIGHT\")    => 460.0\n",
       "  (\"CO2LIM2\", \"IMELC2WN\") => 1.2\n",
       "  (\"CO2LIM2\", \"IMELC2SD\") => 1.2\n",
       "  (\"CO2LIM2\", \"IMELC2SN\") => 1.2\n",
       "  (\"CO2LIM2\", \"IMELC2WD\") => 1.2"
      ]
     },
     "metadata": {},
     "output_type": "display_data"
    },
    {
     "data": {
      "text/plain": [
       "Dict{Tuple{String,String},Float64} with 5 entries:\n",
       "  (\"CO2LIM2\", \"RIGHT\")    => 420.0\n",
       "  (\"CO2LIM2\", \"IMELC2WN\") => 1.2\n",
       "  (\"CO2LIM2\", \"IMELC2SD\") => 1.2\n",
       "  (\"CO2LIM2\", \"IMELC2SN\") => 1.2\n",
       "  (\"CO2LIM2\", \"IMELC2WD\") => 1.2"
      ]
     },
     "metadata": {},
     "output_type": "display_data"
    },
    {
     "data": {
      "text/plain": [
       "Dict{Tuple{String,String},Float64} with 5 entries:\n",
       "  (\"CO2LIM2\", \"RIGHT\")    => 410.0\n",
       "  (\"CO2LIM2\", \"IMELC2WN\") => 1.2\n",
       "  (\"CO2LIM2\", \"IMELC2SD\") => 1.2\n",
       "  (\"CO2LIM2\", \"IMELC2SN\") => 1.2\n",
       "  (\"CO2LIM2\", \"IMELC2WD\") => 1.2"
      ]
     },
     "metadata": {},
     "output_type": "display_data"
    },
    {
     "data": {
      "text/plain": [
       "Dict{Tuple{String,String},Float64} with 5 entries:\n",
       "  (\"CO2LIM2\", \"RIGHT\")    => 550.0\n",
       "  (\"CO2LIM2\", \"IMELC2WN\") => 1.0\n",
       "  (\"CO2LIM2\", \"IMELC2SD\") => 1.0\n",
       "  (\"CO2LIM2\", \"IMELC2SN\") => 1.0\n",
       "  (\"CO2LIM2\", \"IMELC2WD\") => 1.0"
      ]
     },
     "metadata": {},
     "output_type": "display_data"
    },
    {
     "data": {
      "text/plain": [
       "Dict{Tuple{String,String},Float64} with 5 entries:\n",
       "  (\"CO2LIM2\", \"RIGHT\")    => 470.0\n",
       "  (\"CO2LIM2\", \"IMELC2WN\") => 1.0\n",
       "  (\"CO2LIM2\", \"IMELC2SD\") => 1.0\n",
       "  (\"CO2LIM2\", \"IMELC2SN\") => 1.0\n",
       "  (\"CO2LIM2\", \"IMELC2WD\") => 1.0"
      ]
     },
     "metadata": {},
     "output_type": "display_data"
    },
    {
     "data": {
      "text/plain": [
       "Dict{Tuple{String,String},Float64} with 5 entries:\n",
       "  (\"CO2LIM2\", \"RIGHT\")    => 460.0\n",
       "  (\"CO2LIM2\", \"IMELC2WN\") => 1.0\n",
       "  (\"CO2LIM2\", \"IMELC2SD\") => 1.0\n",
       "  (\"CO2LIM2\", \"IMELC2SN\") => 1.0\n",
       "  (\"CO2LIM2\", \"IMELC2WD\") => 1.0"
      ]
     },
     "metadata": {},
     "output_type": "display_data"
    },
    {
     "data": {
      "text/plain": [
       "Dict{Tuple{String,String},Float64} with 5 entries:\n",
       "  (\"CO2LIM2\", \"RIGHT\")    => 420.0\n",
       "  (\"CO2LIM2\", \"IMELC2WN\") => 1.0\n",
       "  (\"CO2LIM2\", \"IMELC2SD\") => 1.0\n",
       "  (\"CO2LIM2\", \"IMELC2SN\") => 1.0\n",
       "  (\"CO2LIM2\", \"IMELC2WD\") => 1.0"
      ]
     },
     "metadata": {},
     "output_type": "display_data"
    },
    {
     "data": {
      "text/plain": [
       "Dict{Tuple{String,String},Float64} with 5 entries:\n",
       "  (\"CO2LIM2\", \"RIGHT\")    => 410.0\n",
       "  (\"CO2LIM2\", \"IMELC2WN\") => 1.0\n",
       "  (\"CO2LIM2\", \"IMELC2SD\") => 1.0\n",
       "  (\"CO2LIM2\", \"IMELC2SN\") => 1.0\n",
       "  (\"CO2LIM2\", \"IMELC2WD\") => 1.0"
      ]
     },
     "metadata": {},
     "output_type": "display_data"
    },
    {
     "data": {
      "text/plain": [
       "Dict{Tuple{String,String},Float64} with 5 entries:\n",
       "  (\"CO2LIM2\", \"RIGHT\")    => 550.0\n",
       "  (\"CO2LIM2\", \"IMELC2WN\") => 0.0\n",
       "  (\"CO2LIM2\", \"IMELC2SD\") => 0.0\n",
       "  (\"CO2LIM2\", \"IMELC2SN\") => 0.0\n",
       "  (\"CO2LIM2\", \"IMELC2WD\") => 0.0"
      ]
     },
     "metadata": {},
     "output_type": "display_data"
    },
    {
     "data": {
      "text/plain": [
       "Dict{Tuple{String,String},Float64} with 5 entries:\n",
       "  (\"CO2LIM2\", \"RIGHT\")    => 470.0\n",
       "  (\"CO2LIM2\", \"IMELC2WN\") => 0.0\n",
       "  (\"CO2LIM2\", \"IMELC2SD\") => 0.0\n",
       "  (\"CO2LIM2\", \"IMELC2SN\") => 0.0\n",
       "  (\"CO2LIM2\", \"IMELC2WD\") => 0.0"
      ]
     },
     "metadata": {},
     "output_type": "display_data"
    },
    {
     "data": {
      "text/plain": [
       "Dict{Tuple{String,String},Float64} with 5 entries:\n",
       "  (\"CO2LIM2\", \"RIGHT\")    => 460.0\n",
       "  (\"CO2LIM2\", \"IMELC2WN\") => 0.0\n",
       "  (\"CO2LIM2\", \"IMELC2SD\") => 0.0\n",
       "  (\"CO2LIM2\", \"IMELC2SN\") => 0.0\n",
       "  (\"CO2LIM2\", \"IMELC2WD\") => 0.0"
      ]
     },
     "metadata": {},
     "output_type": "display_data"
    },
    {
     "data": {
      "text/plain": [
       "Dict{Tuple{String,String},Float64} with 5 entries:\n",
       "  (\"CO2LIM2\", \"RIGHT\")    => 420.0\n",
       "  (\"CO2LIM2\", \"IMELC2WN\") => 0.0\n",
       "  (\"CO2LIM2\", \"IMELC2SD\") => 0.0\n",
       "  (\"CO2LIM2\", \"IMELC2SN\") => 0.0\n",
       "  (\"CO2LIM2\", \"IMELC2WD\") => 0.0"
      ]
     },
     "metadata": {},
     "output_type": "display_data"
    },
    {
     "data": {
      "text/plain": [
       "Dict{Tuple{String,String},Float64} with 5 entries:\n",
       "  (\"CO2LIM2\", \"RIGHT\")    => 410.0\n",
       "  (\"CO2LIM2\", \"IMELC2WN\") => 0.0\n",
       "  (\"CO2LIM2\", \"IMELC2SD\") => 0.0\n",
       "  (\"CO2LIM2\", \"IMELC2SN\") => 0.0\n",
       "  (\"CO2LIM2\", \"IMELC2WD\") => 0.0"
      ]
     },
     "metadata": {},
     "output_type": "display_data"
    },
    {
     "name": "stdout",
     "output_type": "stream",
     "text": [
      "\n",
      "\n",
      "\n",
      "\n",
      "\n",
      "\n",
      "\n",
      "\n",
      "\n",
      "\n",
      "\n",
      "\n",
      "\n",
      "\n",
      "\n"
     ]
    }
   ],
   "source": [
    "for s in S\n",
    "    display(s.values)\n",
    "    println()\n",
    "end"
   ]
  }
 ],
 "metadata": {
  "kernelspec": {
   "display_name": "Julia 1.0.1",
   "language": "julia",
   "name": "julia-1.0"
  },
  "language_info": {
   "file_extension": ".jl",
   "mimetype": "application/julia",
   "name": "julia",
   "version": "1.0.1"
  }
 },
 "nbformat": 4,
 "nbformat_minor": 2
}
